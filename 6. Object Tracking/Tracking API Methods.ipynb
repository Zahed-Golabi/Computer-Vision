{
 "cells": [
  {
   "cell_type": "markdown",
   "id": "80bdbdf5",
   "metadata": {},
   "source": [
    "# Tracking API Methods"
   ]
  },
  {
   "cell_type": "markdown",
   "id": "ac73fcd1",
   "metadata": {},
   "source": [
    "+ Boosting Tracking\n",
    " + Based off AdaBoost algorithm (the same underlying algorithm that the HAAR Cascade based Face Detector Used).\n",
    " + Evaluation occurs across multiple frames.\n",
    " + Very well known and studied algorithm\n",
    " + Doesn't know when tracking has failed\n",
    " + Much better techniques available!\n",
    "+ MIL Tracker\n",
    " - Multiple Instance Learning\n",
    " - Similar to Boosting, but considers a neighbourhood of points around the current location to create multipl instance\n",
    " - Good performance and doesn't drifts as much as Boosting\n",
    " - Failure to track on object may not be reported back\n",
    " - Can't recover from full obstruction\n",
    "+ KCF Tracker\n",
    " + Kernelized Correlation Filters\n",
    " + Exploits some properties of the MIL tracker and the fact that many data points will overlap, leading to more accurate and faster tracking.\n",
    "  + Better than MIL and Boosint \n",
    "  + Great first choice\n",
    "  + Can not recover from full obstruction of object\n",
    "\n",
    "+ TLD Tracker\n",
    " + Tracking, learning, and detection\n",
    " + The tracker follows the object from frame to frame\n",
    " + The detector localizes all appearances that have been observed so far and corrects the tracker if necessary\n",
    " + The learning estimates detector's errors and updates it to avoid these errors in the future.\n",
    " + Good at tracking even with obstruction in frames\n",
    " + Tracks well under large changes in scale\n",
    " + Can provide many false positives\n",
    "+ MedianFlow Trackr\n",
    " + Internally, this tracker tracks the object in both forward and backward directions in time and measures the discrepancies between these two trajectories.\n",
    " + Very good at reporting failed tracking.\n",
    " + Works well with predictable motion.\n",
    " + Fails under large motion (fast moving objects)"
   ]
  },
  {
   "cell_type": "code",
   "execution_count": 1,
   "id": "5f7c5eb4",
   "metadata": {},
   "outputs": [],
   "source": [
    "import cv2"
   ]
  },
  {
   "cell_type": "code",
   "execution_count": 2,
   "id": "1e6fcc4e",
   "metadata": {},
   "outputs": [],
   "source": [
    "def ask_for_tracker():\n",
    "    print(\"Welcome! What Tracker API would you like to use?\")\n",
    "    # print(\"Enter 0 for BOOSTING: \")\n",
    "    print(\"Enter 1 for MIL: \")\n",
    "    print(\"Enter 2 for KCF \")\n",
    "    print(\"Enter 3 for CSRT \")\n",
    "    # print(\"Enter 4 for DaSiamRPN: \")\n",
    "    \n",
    "    choice = input(\"Please select your tracker: \")\n",
    "    \n",
    "    if choice == \"1\":\n",
    "        tracker = cv2.TrackerMIL_create()\n",
    "    if choice == \"2\":\n",
    "        tracker = cv2.TrackerKCF_create()\n",
    "    if choice == \"3\":\n",
    "        tracker = cv2.TrackerCSRT_create()\n",
    "    if choice == \"4\":\n",
    "        # tracker = cv2.TrackerGOTURN_create()\n",
    "        pass\n",
    "    \n",
    "        \n",
    "    return tracker\n",
    "        \n",
    "        "
   ]
  },
  {
   "cell_type": "code",
   "execution_count": 5,
   "id": "51aa5dc6",
   "metadata": {},
   "outputs": [
    {
     "name": "stdout",
     "output_type": "stream",
     "text": [
      "Welcome! What Tracker API would you like to use?\n",
      "Enter 1 for MIL: \n",
      "Enter 2 for KCF \n",
      "Enter 3 for CSRT \n",
      "Please select your tracker: 1\n"
     ]
    }
   ],
   "source": [
    "tracker = ask_for_tracker()"
   ]
  },
  {
   "cell_type": "code",
   "execution_count": 6,
   "id": "27acb917",
   "metadata": {},
   "outputs": [
    {
     "data": {
      "text/plain": [
       "'TrackerMIL'"
      ]
     },
     "execution_count": 6,
     "metadata": {},
     "output_type": "execute_result"
    }
   ],
   "source": [
    "str(tracker).split()[0][1:]"
   ]
  },
  {
   "cell_type": "code",
   "execution_count": 10,
   "id": "50be2bbd",
   "metadata": {},
   "outputs": [
    {
     "name": "stdout",
     "output_type": "stream",
     "text": [
      "Welcome! What Tracker API would you like to use?\n",
      "Enter 1 for MIL: \n",
      "Enter 2 for KCF \n",
      "Enter 3 for CSRT \n",
      "Please select your tracker: 2\n"
     ]
    }
   ],
   "source": [
    "tracker = ask_for_tracker()\n",
    "tracker_name = str(tracker).split()[0][1:]\n",
    "\n",
    "# Read Video\n",
    "capture = cv2.VideoCapture(0)\n",
    "\n",
    "# Read first frame\n",
    "ret, frame = capture.read()\n",
    "\n",
    "# Special function allows us to draw on the very first frame our desired ROI\n",
    "roi = cv2.selectROI(frame, False)\n",
    "\n",
    "# Initialize tracker with first frame and bounding box\n",
    "ret = tracker.init(frame,roi)\n",
    "\n",
    "while True:\n",
    "    # Read a new frame\n",
    "    ret, frame = capture.read()\n",
    "    \n",
    "    # Update tracker\n",
    "    success, roi = tracker.update(frame)\n",
    "    \n",
    "    # roi variable is a tuple of 4 floats\n",
    "    # We need each value and we need them as integers\n",
    "    (x,y,w,h) = tuple(map(int,roi))\n",
    "    \n",
    "    # Draw Rectangle as Tracker moves\n",
    "    if success:\n",
    "        # Tracking success\n",
    "        p1 = (x,y)\n",
    "        p2 = (x+w, y+h)\n",
    "        cv2.rectangle(frame, p1, p2, (0,255,0), 3)\n",
    "    else:\n",
    "        # Tracking failure\n",
    "        cv2.putText(frame, \"Failure to detect Tracking!!\",(100,200), cv2.FONT_HERSHEY_SIMPLEX, 1, (0,0,255),3)\n",
    "    \n",
    "    # Display tracker type on frame\n",
    "    cv2.putText(frame, tracker_name, (20,400), cv2.FONT_HERSHEY_SIMPLEX, 1, (0,255,0),3)\n",
    "    \n",
    "    # Display result\n",
    "    cv2.imshow(tracker_name, frame)\n",
    "    \n",
    "    # Exit if ESC pressed\n",
    "    k = cv2.waitKey(1) & 0xFF\n",
    "    if k == 27:\n",
    "        break\n",
    "        \n",
    "        \n",
    "capture.release()\n",
    "cv2.destroyAllWindows()"
   ]
  }
 ],
 "metadata": {
  "kernelspec": {
   "display_name": "Python 3 (ipykernel)",
   "language": "python",
   "name": "python3"
  },
  "language_info": {
   "codemirror_mode": {
    "name": "ipython",
    "version": 3
   },
   "file_extension": ".py",
   "mimetype": "text/x-python",
   "name": "python",
   "nbconvert_exporter": "python",
   "pygments_lexer": "ipython3",
   "version": "3.9.12"
  }
 },
 "nbformat": 4,
 "nbformat_minor": 5
}
