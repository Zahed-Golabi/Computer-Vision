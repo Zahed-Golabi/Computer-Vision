{
 "cells": [
  {
   "cell_type": "markdown",
   "id": "80bdbdf5",
   "metadata": {},
   "source": [
    "# Tracking API Methods"
   ]
  },
  {
   "cell_type": "markdown",
   "id": "ac73fcd1",
   "metadata": {},
   "source": [
    "+ Boosting Tracking\n",
    " + Based off AdaBoost algorithm (the same underlying algorithm that the HAAR Cascade based Face Detector Used).\n",
    " + Evaluation occurs across multiple frames.\n",
    " + Very well known and studied algorithm\n",
    " + Doesn't know when tracking has failed\n",
    " + Much better techniques available!\n",
    "+ MIL Tracker\n",
    " - Multiple Instance Learning\n",
    " - Similar to Boosting, but considers a neighbourhood of points around the current location to create multipl instance\n",
    " - Good performance and doesn't drifts as much as Boosting\n",
    " - Failure to track on object may not be reported back\n",
    " - Can't recover from full obstruction\n",
    "+ KCF Tracker\n",
    " + Kernelized Correlation Filters\n",
    " + Exploits some properties of the MIL tracker and the fact that many data points will overlap, leading to more accurate and faster tracking.\n",
    "  + Better than MIL and Boosint \n",
    "  + Great first choice\n",
    "  + Can not recover from full obstruction of object\n",
    "\n",
    "+ TLD Tracker\n",
    " + Tracking, learning, and detection\n",
    " + The tracker follows the object from frame to frame\n",
    " + The detector localizes all appearances that have been observed so far and corrects the tracker if necessary\n",
    " + The learning estimates detector's errors and updates it to avoid these errors in the future.\n",
    " + Good at tracking even with obstruction in frames\n",
    " + Tracks well under large changes in scale\n",
    " + Can provide many false positives\n",
    "+ MedianFlow Trackr\n",
    " + Internally, this tracker tracks the object in both forward and backward directions in time and measures the discrepancies between these two trajectories.\n",
    " + Very good at reporting failed tracking.\n",
    " + Works well with predictable motion.\n",
    " + Fails under large motion (fast moving objects)"
   ]
  },
  {
   "cell_type": "code",
   "execution_count": null,
   "id": "5f7c5eb4",
   "metadata": {},
   "outputs": [],
   "source": []
  },
  {
   "cell_type": "code",
   "execution_count": null,
   "id": "1e6fcc4e",
   "metadata": {},
   "outputs": [],
   "source": []
  },
  {
   "cell_type": "code",
   "execution_count": null,
   "id": "51aa5dc6",
   "metadata": {},
   "outputs": [],
   "source": []
  },
  {
   "cell_type": "code",
   "execution_count": null,
   "id": "50be2bbd",
   "metadata": {},
   "outputs": [],
   "source": []
  }
 ],
 "metadata": {
  "kernelspec": {
   "display_name": "Python 3 (ipykernel)",
   "language": "python",
   "name": "python3"
  },
  "language_info": {
   "codemirror_mode": {
    "name": "ipython",
    "version": 3
   },
   "file_extension": ".py",
   "mimetype": "text/x-python",
   "name": "python",
   "nbconvert_exporter": "python",
   "pygments_lexer": "ipython3",
   "version": "3.9.12"
  }
 },
 "nbformat": 4,
 "nbformat_minor": 5
}
