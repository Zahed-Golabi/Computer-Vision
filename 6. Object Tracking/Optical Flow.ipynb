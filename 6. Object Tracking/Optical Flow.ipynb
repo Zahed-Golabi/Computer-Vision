{
 "cells": [
  {
   "cell_type": "markdown",
   "id": "b302cd53",
   "metadata": {},
   "source": [
    "# Optical Flow"
   ]
  },
  {
   "cell_type": "markdown",
   "id": "f35e88b9",
   "metadata": {},
   "source": [
    "+ Optical flow is the pattern of apparent motion of image objects between two consecutive frames caused by the movement of object or camera\n",
    "+ Optical flow analysis has a few assumptions:\n",
    " + The pixel intensities of an object do not change between consecutive frames\n",
    " + Neighbouring pixels have similar motion\n",
    "+ The optical flow methods in opencv will first take in a given set of points and a frame.\n",
    "+ Then it will attempt to find those points in the next frame\n",
    "+ It is up to the user to supply the points to track\n",
    "+ We can use Gunner Farneback's algorithm (also built in to OpenCV) to calculate dense optical flow.\n",
    "+ This dense optical flow will calculate flow for all points in an image.\n",
    "+ It will color them black in no flow (no movement) is detected.\n"
   ]
  },
  {
   "cell_type": "code",
   "execution_count": null,
   "id": "fd699774",
   "metadata": {},
   "outputs": [],
   "source": []
  },
  {
   "cell_type": "code",
   "execution_count": null,
   "id": "3842f371",
   "metadata": {},
   "outputs": [],
   "source": []
  },
  {
   "cell_type": "code",
   "execution_count": null,
   "id": "e68e0164",
   "metadata": {},
   "outputs": [],
   "source": []
  },
  {
   "cell_type": "code",
   "execution_count": null,
   "id": "472d1474",
   "metadata": {},
   "outputs": [],
   "source": []
  },
  {
   "cell_type": "code",
   "execution_count": null,
   "id": "4aaa3ef4",
   "metadata": {},
   "outputs": [],
   "source": []
  },
  {
   "cell_type": "code",
   "execution_count": null,
   "id": "a1536de0",
   "metadata": {},
   "outputs": [],
   "source": []
  }
 ],
 "metadata": {
  "kernelspec": {
   "display_name": "Python 3 (ipykernel)",
   "language": "python",
   "name": "python3"
  },
  "language_info": {
   "codemirror_mode": {
    "name": "ipython",
    "version": 3
   },
   "file_extension": ".py",
   "mimetype": "text/x-python",
   "name": "python",
   "nbconvert_exporter": "python",
   "pygments_lexer": "ipython3",
   "version": "3.9.12"
  }
 },
 "nbformat": 4,
 "nbformat_minor": 5
}
