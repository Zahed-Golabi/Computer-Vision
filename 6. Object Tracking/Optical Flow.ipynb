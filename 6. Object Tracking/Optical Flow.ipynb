{
 "cells": [
  {
   "cell_type": "markdown",
   "id": "8db55c7f",
   "metadata": {},
   "source": [
    "# Optical Flow"
   ]
  },
  {
   "cell_type": "markdown",
   "id": "74a1c83d",
   "metadata": {},
   "source": [
    "+ Optical flow is the pattern of apparent motion of image objects between two consecutive frames caused by the movement of object or camera\n",
    "+ Optical flow analysis has a few assumptions:\n",
    " + The pixel intensities of an object do not change between consecutive frames\n",
    " + Neighbouring pixels have similar motion\n",
    "+ The optical flow methods in opencv will first take in a given set of points and a frame.\n",
    "+ Then it will attempt to find those points in the next frame\n",
    "+ It is up to the user to supply the points to track\n",
    "+ We can use Gunner Farneback's algorithm (also built in to OpenCV) to calculate dense optical flow.\n",
    "+ This dense optical flow will calculate flow for all points in an image.\n",
    "+ It will color them black in no flow (no movement) is detected.\n",
    "+ The Lucas-Kanade computes optical flow for a sparse feature set.\n",
    " + Meaning only the points it was told to track."
   ]
  },
  {
   "cell_type": "code",
   "execution_count": 1,
   "id": "6fc8220b",
   "metadata": {},
   "outputs": [],
   "source": [
    "import cv2\n",
    "import numpy as np"
   ]
  },
  {
   "cell_type": "code",
   "execution_count": 2,
   "id": "b7fdafde",
   "metadata": {},
   "outputs": [],
   "source": [
    "corner_track_params = dict(maxCorners=10, qualityLevel=0.3, minDistance=7,\n",
    "                          blockSize=7)"
   ]
  },
  {
   "cell_type": "code",
   "execution_count": 3,
   "id": "e6eb7b61",
   "metadata": {},
   "outputs": [
    {
     "data": {
      "text/plain": [
       "{'maxCorners': 10, 'qualityLevel': 0.3, 'minDistance': 7, 'blockSize': 7}"
      ]
     },
     "execution_count": 3,
     "metadata": {},
     "output_type": "execute_result"
    }
   ],
   "source": [
    "corner_track_params"
   ]
  },
  {
   "cell_type": "code",
   "execution_count": 4,
   "id": "2dea7dfe",
   "metadata": {},
   "outputs": [],
   "source": [
    "# Lucas-Kanade params\n",
    "lk_params = dict(winSize=(200,200), maxLevel=2, criteria=(cv2.TERM_CRITERIA_EPS | cv2.TERM_CRITERIA_COUNT,10,0.03))"
   ]
  },
  {
   "cell_type": "code",
   "execution_count": 5,
   "id": "6471152f",
   "metadata": {},
   "outputs": [
    {
     "ename": "AttributeError",
     "evalue": "module 'cv2' has no attribute 'capture'",
     "output_type": "error",
     "traceback": [
      "\u001b[1;31m---------------------------------------------------------------------------\u001b[0m",
      "\u001b[1;31mAttributeError\u001b[0m                            Traceback (most recent call last)",
      "Input \u001b[1;32mIn [5]\u001b[0m, in \u001b[0;36m<cell line: 1>\u001b[1;34m()\u001b[0m\n\u001b[1;32m----> 1\u001b[0m capture \u001b[38;5;241m=\u001b[39m \u001b[43mcv2\u001b[49m\u001b[38;5;241;43m.\u001b[39;49m\u001b[43mcapture\u001b[49m(\u001b[38;5;241m0\u001b[39m)\n",
      "\u001b[1;31mAttributeError\u001b[0m: module 'cv2' has no attribute 'capture'"
     ]
    }
   ],
   "source": [
    "capture = cv2.VideoCapture(0)\n",
    "\n",
    "\n",
    "ret,prev_frame = capture.read()\n",
    "\n",
    "prev_gray = cv2.cvtColor(prev_frame,cv2.COLOR_BGR2GRAY)\n",
    "\n",
    "# PTS To Track\n",
    "prevPts = cv2.goodFeaturesToTrack(prev_gray,mask=None,**corner_track_params)\n",
    "\n",
    "mask = np.zeros_like(prev_frame)\n",
    "\n",
    "\n",
    "while True:\n",
    "    \n",
    "    ret,frame = capture.read()\n",
    "    \n",
    "    frame_gray = cv2.cvtColor(frame,cv2.COLOR_BGR2GRAY)\n",
    "    \n",
    "    nextPts, status, err = cv2.calc"
   ]
  },
  {
   "cell_type": "code",
   "execution_count": null,
   "id": "3dfdf735",
   "metadata": {},
   "outputs": [],
   "source": []
  }
 ],
 "metadata": {
  "kernelspec": {
   "display_name": "Python 3 (ipykernel)",
   "language": "python",
   "name": "python3"
  },
  "language_info": {
   "codemirror_mode": {
    "name": "ipython",
    "version": 3
   },
   "file_extension": ".py",
   "mimetype": "text/x-python",
   "name": "python",
   "nbconvert_exporter": "python",
   "pygments_lexer": "ipython3",
   "version": "3.9.12"
  }
 },
 "nbformat": 4,
 "nbformat_minor": 5
}
