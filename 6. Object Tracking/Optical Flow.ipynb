{
 "cells": [
  {
   "cell_type": "markdown",
   "id": "23a15bb2",
   "metadata": {},
   "source": [
    "# Optical Flow"
   ]
  },
  {
   "cell_type": "markdown",
   "id": "38868b1c",
   "metadata": {},
   "source": [
    "+ Optical flow is the pattern of apparent motion of image objects between two consecutive frames caused by the movement of object or camera\n",
    "+ Optical flow analysis has a few assumptions:\n",
    " + The pixel intensities of an object do not change between consecutive frames\n",
    " + Neighbouring pixels have similar motion\n",
    "+ The optical flow methods in opencv will first take in a given set of points and a frame.\n",
    "+ Then it will attempt to find those points in the next frame\n",
    "+ It is up to the user to supply the points to track\n",
    "+ We can use Gunner Farneback's algorithm (also built in to OpenCV) to calculate dense optical flow.\n",
    "+ This dense optical flow will calculate flow for all points in an image.\n",
    "+ It will color them black in no flow (no movement) is detected.\n",
    "+ The Lucas-Kanade computes optical flow for a sparse feature set.\n",
    " + Meaning only the points it was told to track."
   ]
  },
  {
   "cell_type": "code",
   "execution_count": 1,
   "id": "d08866dc",
   "metadata": {},
   "outputs": [],
   "source": [
    "import cv2\n",
    "import numpy as np"
   ]
  },
  {
   "cell_type": "markdown",
   "id": "5cfa303e",
   "metadata": {},
   "source": [
    "## Lucas Kanade Optical Flow"
   ]
  },
  {
   "cell_type": "code",
   "execution_count": 3,
   "id": "b253b0a7",
   "metadata": {},
   "outputs": [],
   "source": [
    "corner_track_params = dict(maxCorners=10, qualityLevel=0.3, minDistance=7,\n",
    "                          blockSize=7)"
   ]
  },
  {
   "cell_type": "code",
   "execution_count": 4,
   "id": "dc75cacf",
   "metadata": {},
   "outputs": [
    {
     "data": {
      "text/plain": [
       "{'maxCorners': 10, 'qualityLevel': 0.3, 'minDistance': 7, 'blockSize': 7}"
      ]
     },
     "execution_count": 4,
     "metadata": {},
     "output_type": "execute_result"
    }
   ],
   "source": [
    "corner_track_params"
   ]
  },
  {
   "cell_type": "code",
   "execution_count": 5,
   "id": "088b4d60",
   "metadata": {},
   "outputs": [],
   "source": [
    "# Lucas-Kanade params\n",
    "lk_params = dict(winSize=(200,200), maxLevel=2, criteria=(cv2.TERM_CRITERIA_EPS | cv2.TERM_CRITERIA_COUNT,10,0.03))"
   ]
  },
  {
   "cell_type": "code",
   "execution_count": 9,
   "id": "d234fafc",
   "metadata": {},
   "outputs": [],
   "source": [
    "capture = cv2.VideoCapture(0)\n",
    "\n",
    "\n",
    "ret,prev_frame = capture.read()\n",
    "\n",
    "prev_gray = cv2.cvtColor(prev_frame,cv2.COLOR_BGR2GRAY)\n",
    "\n",
    "# PTS To Track\n",
    "prevPts = cv2.goodFeaturesToTrack(prev_gray,mask=None,**corner_track_params)\n",
    "\n",
    "mask = np.zeros_like(prev_frame)\n",
    "\n",
    "\n",
    "while True:\n",
    "    \n",
    "    ret,frame = capture.read()\n",
    "    \n",
    "    frame_gray = cv2.cvtColor(frame,cv2.COLOR_BGR2GRAY)\n",
    "    \n",
    "    nextPts, status, err = cv2.calcOpticalFlowPyrLK(prev_gray,frame_gray,prevPts,None,**lk_params)\n",
    "    \n",
    "    good_new = nextPts[status==1]\n",
    "    good_prev = prevPts[status==1]\n",
    "    \n",
    "    for i,(new,prev) in enumerate(zip(good_new,good_prev)):\n",
    "        \n",
    "        x_new, y_new = np.uint8(new.ravel())\n",
    "        x_prev, y_prev = np.uint8(prev.ravel())\n",
    "        \n",
    "        mask = cv2.line(mask,(x_new,y_new),(x_prev,y_prev), (0,255,0),3)\n",
    "        frmae = cv2.circle(frame,(x_new,y_new),8,(0,0,255),-1)\n",
    "        \n",
    "    img = cv2.add(frame,mask)\n",
    "    cv2.imshow(\"Tracking\",img)\n",
    "    \n",
    "    k = cv2.waitKey(30) & 0xFF\n",
    "    if k==27:\n",
    "        break\n",
    "        \n",
    "    prev_gray = frame_gray.copy()\n",
    "    prevPts = good_new.reshape(-1,1,2)\n",
    "    \n",
    "\n",
    "cv2.destroyAllWindows()\n",
    "capture.release()\n",
    "    "
   ]
  },
  {
   "cell_type": "code",
   "execution_count": null,
   "id": "ea36be6d",
   "metadata": {},
   "outputs": [],
   "source": []
  },
  {
   "cell_type": "markdown",
   "id": "d0256ec6",
   "metadata": {},
   "source": [
    "## Densce Optical Flow"
   ]
  },
  {
   "cell_type": "code",
   "execution_count": 12,
   "id": "2915d30b",
   "metadata": {},
   "outputs": [],
   "source": [
    "capture = cv2.VideoCapture(0)\n",
    "\n",
    "\n",
    "ret,frame1 = capture.read()\n",
    "\n",
    "prvsImg = cv2.cvtColor(frame1,cv2.COLOR_BGR2GRAY)\n",
    "\n",
    "hsv_mask = np.zeros_like(frame1)\n",
    "hsv_mask[::,1] = 255\n",
    "\n",
    "\n",
    "while True:\n",
    "    \n",
    "    ret,frame2 = capture.read()\n",
    "    \n",
    "    nextImg = cv2.cvtColor(frame2,cv2.COLOR_BGR2GRAY)\n",
    "    \n",
    "    flow = cv2.calcOpticalFlowFarneback(prvsImg,nextImg,None,0.5,3,15,3,5,1.2,0)\n",
    "    \n",
    "    mag, ang = cv2.cartToPolar(flow[:,:,0],flow[:,:,1],angleInDegrees=True)\n",
    "    \n",
    "    hsv_mask[:,:,0] = ang/2\n",
    "    \n",
    "    hsv_mask[:,:,2] = cv2.normalize(mag,None,0,255,cv2.NORM_MINMAX)\n",
    "    \n",
    "    bgr = cv2.cvtColor(hsv_mask,cv2.COLOR_HSV2BGR)\n",
    "    cv2.imshow(\"Frame\",bgr)\n",
    "    \n",
    "    k = cv2.waitKey(10) & 0xFF\n",
    "    if k == 27:\n",
    "        break\n",
    "    \n",
    "    prvsImg = nextImg\n",
    "    \n",
    "cv2.destroyAllWindows()\n",
    "capture.release()"
   ]
  },
  {
   "cell_type": "code",
   "execution_count": null,
   "id": "7b214e26",
   "metadata": {},
   "outputs": [],
   "source": []
  }
 ],
 "metadata": {
  "kernelspec": {
   "display_name": "Python 3 (ipykernel)",
   "language": "python",
   "name": "python3"
  },
  "language_info": {
   "codemirror_mode": {
    "name": "ipython",
    "version": 3
   },
   "file_extension": ".py",
   "mimetype": "text/x-python",
   "name": "python",
   "nbconvert_exporter": "python",
   "pygments_lexer": "ipython3",
   "version": "3.9.12"
  }
 },
 "nbformat": 4,
 "nbformat_minor": 5
}
