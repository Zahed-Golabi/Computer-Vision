{
 "cells": [
  {
   "cell_type": "markdown",
   "id": "7572d201",
   "metadata": {},
   "source": [
    "# MeanShift and CAMShift"
   ]
  },
  {
   "cell_type": "markdown",
   "id": "6736dc1c",
   "metadata": {},
   "source": [
    "+ MeanShift can be given a target to track, calculate the color histogram of the target area, and then keep sliding the tracking window to the closest match (the cluster center).\n",
    "+ Just using MeanShift won't change the windwo size if the target moves away or towards the camera.\n",
    "+ We can use CAMShift to update the size of the window.\n"
   ]
  },
  {
   "cell_type": "code",
   "execution_count": null,
   "id": "c92c5d9c",
   "metadata": {},
   "outputs": [],
   "source": []
  },
  {
   "cell_type": "code",
   "execution_count": null,
   "id": "8095f8b2",
   "metadata": {},
   "outputs": [],
   "source": []
  },
  {
   "cell_type": "code",
   "execution_count": null,
   "id": "d6a80166",
   "metadata": {},
   "outputs": [],
   "source": []
  },
  {
   "cell_type": "code",
   "execution_count": null,
   "id": "43cd68f1",
   "metadata": {},
   "outputs": [],
   "source": []
  }
 ],
 "metadata": {
  "kernelspec": {
   "display_name": "Python 3 (ipykernel)",
   "language": "python",
   "name": "python3"
  },
  "language_info": {
   "codemirror_mode": {
    "name": "ipython",
    "version": 3
   },
   "file_extension": ".py",
   "mimetype": "text/x-python",
   "name": "python",
   "nbconvert_exporter": "python",
   "pygments_lexer": "ipython3",
   "version": "3.9.12"
  }
 },
 "nbformat": 4,
 "nbformat_minor": 5
}
