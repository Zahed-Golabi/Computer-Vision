{
 "cells": [
  {
   "cell_type": "markdown",
   "id": "7e7ea490",
   "metadata": {},
   "source": [
    "# MeanShift and CAMShift"
   ]
  },
  {
   "cell_type": "markdown",
   "id": "c32df0e7",
   "metadata": {},
   "source": [
    "+ MeanShift can be given a target to track, calculate the color histogram of the target area, and then keep sliding the tracking window to the closest match (the cluster center).\n",
    "+ Just using MeanShift won't change the windwo size if the target moves away or towards the camera.\n",
    "+ We can use CAMShift to update the size of the window.\n"
   ]
  },
  {
   "cell_type": "code",
   "execution_count": null,
   "id": "f5df785a",
   "metadata": {},
   "outputs": [],
   "source": [
    "import numpy as np\n",
    "import cv2"
   ]
  },
  {
   "cell_type": "code",
   "execution_count": null,
   "id": "71539dcd",
   "metadata": {},
   "outputs": [],
   "source": [
    "capture = cv2.VideoCapture(0)\n",
    "\n",
    "ret,frame = capture.read()\n",
    "\n",
    "\n",
    "face_cascade = cv2.CascadeClassifier(\"haarcascades/haarcascade_frontalface_default.xml\")\n",
    "face_rects = face_cascade.detectMultiScale(frame)\n",
    "print(face_rects)\n",
    "\n",
    "(face_x,face_y,w,h) = tuple(face_rects[0])\n",
    "track_window = (face_x,face_y,w,h)\n",
    "\n",
    "roi = frame[face_y,:face_y+h,face_x,face_x+w]\n",
    "\n",
    "hsv_roi = cv2.cvtColor(roi,cv2.COLOR_BGR2HSV)\n",
    "\n",
    "roi_hist = cv2.calcHist([hsv_roi],[0],None,[180],[0,180])\n",
    "\n",
    "cv2.normalize(roi_hist,roi_hist,0,255,cv2.NORM_MINMAX)\n",
    "\n",
    "term_crit = (cv2.TERM_CRITERIA_EPS | cv2.TERM_CRITERIA_COUNT,10,1)\n",
    "\n",
    "while True:\n",
    "    \n",
    "    ret,frame = capture.read()\n",
    "    \n",
    "    if ret == True:\n",
    "        hsv = cv2.cvtColor(frame,cv2.COLOR_BGR2HSV)\n",
    "        \n",
    "        dst = cv2.calcBackProject([hst],[0],roi_hist,[0,180],1)\n",
    "        \n",
    "        ret,track_window = cv2.meanShift(dst,track_window,term_crit)\n",
    "        \n",
    "        x,y,w,h = track_window\n",
    "        img2 = cv2.rectangle(frame,(x,y),(x+w,y+h),(0,0,255),5)\n",
    "        \n",
    "        cv2.imshow(\"Image\",img2)\n",
    "        \n",
    "        k = cv2.waitKey(1) & 0xFF\n",
    "        if k == 27:\n",
    "            break\n",
    "    else:\n",
    "        break\n",
    "        \n",
    "        \n",
    "cv2.destroyAllWindows()\n",
    "capture.release()"
   ]
  },
  {
   "cell_type": "code",
   "execution_count": null,
   "id": "d5987a96",
   "metadata": {},
   "outputs": [],
   "source": [
    "####################################\n",
    "ret, track_window = cv2.CamShift(dst,track_window,term_crit)\n",
    "\n",
    "pts = cv2.boxPoints(ret)\n",
    "pts = np.int0(pts)\n",
    "img2 = cv2.polylines(frame,[pts],True,(0,0,255),5)\n",
    "\n",
    "####################################"
   ]
  },
  {
   "cell_type": "code",
   "execution_count": null,
   "id": "61615e2b",
   "metadata": {},
   "outputs": [],
   "source": []
  }
 ],
 "metadata": {
  "kernelspec": {
   "display_name": "Python 3 (ipykernel)",
   "language": "python",
   "name": "python3"
  },
  "language_info": {
   "codemirror_mode": {
    "name": "ipython",
    "version": 3
   },
   "file_extension": ".py",
   "mimetype": "text/x-python",
   "name": "python",
   "nbconvert_exporter": "python",
   "pygments_lexer": "ipython3",
   "version": "3.9.12"
  }
 },
 "nbformat": 4,
 "nbformat_minor": 5
}
