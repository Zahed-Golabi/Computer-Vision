{
 "cells": [
  {
   "cell_type": "markdown",
   "id": "44d79614",
   "metadata": {},
   "source": [
    "# Morphological Operators"
   ]
  },
  {
   "cell_type": "markdown",
   "id": "470e5d35",
   "metadata": {},
   "source": [
    "Morphological Operators are sets of Kernels than can achieve a variety of effects, such as reducing noise."
   ]
  },
  {
   "cell_type": "markdown",
   "id": "6d409cc8",
   "metadata": {},
   "source": [
    "Certain operators are very good at reducing black points on a white background (an vice versa)"
   ]
  },
  {
   "cell_type": "code",
   "execution_count": 10,
   "id": "31ba7cd3",
   "metadata": {},
   "outputs": [],
   "source": [
    "import numpy as np\n",
    "import cv2\n",
    "import matplotlib.pyplot as plt"
   ]
  },
  {
   "cell_type": "code",
   "execution_count": 11,
   "id": "e3e6d9b6",
   "metadata": {},
   "outputs": [],
   "source": [
    "def load_img():\n",
    "    blank_img = np.zeros(shape=(600,600))\n",
    "    font = cv2.FONT_HERSHEY_SIMPLEX\n",
    "    cv2.putText(blank_img, text=\"ABCD\", org=(50,300), fontFace=font,\n",
    "               fontScale=5, color=(255,255,255))\n",
    "    return blank_img"
   ]
  },
  {
   "cell_type": "code",
   "execution_count": 12,
   "id": "14617704",
   "metadata": {},
   "outputs": [],
   "source": [
    "img = load_img()"
   ]
  },
  {
   "cell_type": "code",
   "execution_count": 13,
   "id": "926db391",
   "metadata": {},
   "outputs": [
    {
     "data": {
      "text/plain": [
       "<matplotlib.image.AxesImage at 0x236d7b36eb0>"
      ]
     },
     "execution_count": 13,
     "metadata": {},
     "output_type": "execute_result"
    },
    {
     "data": {
      "image/png": "[encoded data removed]",
      "text/plain": [
       "<Figure size 432x288 with 1 Axes>"
      ]
     },
     "metadata": {
      "needs_background": "light"
     },
     "output_type": "display_data"
    }
   ],
   "source": [
    "plt.imshow(img)"
   ]
  }
 ],
 "metadata": {
  "kernelspec": {
   "display_name": "Python 3 (ipykernel)",
   "language": "python",
   "name": "python3"
  },
  "language_info": {
   "codemirror_mode": {
    "name": "ipython",
    "version": 3
   },
   "file_extension": ".py",
   "mimetype": "text/x-python",
   "name": "python",
   "nbconvert_exporter": "python",
   "pygments_lexer": "ipython3",
   "version": "3.9.12"
  }
 },
 "nbformat": 4,
 "nbformat_minor": 5
}
