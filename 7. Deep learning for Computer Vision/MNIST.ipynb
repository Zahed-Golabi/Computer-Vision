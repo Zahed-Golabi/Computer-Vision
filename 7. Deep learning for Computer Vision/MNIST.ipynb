{
  "cells": [
    {
      "cell_type": "code",
      "execution_count": 3,
      "id": "48429da2",
      "metadata": {
        "id": "48429da2"
      },
      "outputs": [],
      "source": [
        "import matplotlib.pyplot as plt\n",
        "from keras.datasets import mnist"
      ]
    },
    {
      "cell_type": "markdown",
      "source": [
        "## Load MNIST Dataset"
      ],
      "metadata": {
        "id": "YBr44fAiGPhg"
      },
      "id": "YBr44fAiGPhg"
    },
    {
      "cell_type": "code",
      "source": [
        "(X_train,y_train), (X_test,y_test) = mnist.load_data()"
      ],
      "metadata": {
        "colab": {
          "base_uri": "https://localhost:8080/"
        },
        "id": "1c7G3N4aChqY",
        "outputId": "d90730d9-ab50-4e06-b455-d504bb738fe6"
      },
      "id": "1c7G3N4aChqY",
      "execution_count": 2,
      "outputs": [
        {
          "output_type": "stream",
          "name": "stdout",
          "text": [
            "Downloading data from https://storage.googleapis.com/tensorflow/tf-keras-datasets/mnist.npz\n",
            "11490434/11490434 [==============================] - 0s 0us/step\n"
          ]
        }
      ]
    },
    {
      "cell_type": "code",
      "source": [
        "X_train.shape"
      ],
      "metadata": {
        "colab": {
          "base_uri": "https://localhost:8080/"
        },
        "id": "nyaQA8BlCskZ",
        "outputId": "748e0fc8-e933-4eae-a281-742c480c6649"
      },
      "id": "nyaQA8BlCskZ",
      "execution_count": 4,
      "outputs": [
        {
          "output_type": "execute_result",
          "data": {
            "text/plain": [
              "(60000, 28, 28)"
            ]
          },
          "metadata": {},
          "execution_count": 4
        }
      ]
    },
    {
      "cell_type": "markdown",
      "source": [
        "### Show First Image"
      ],
      "metadata": {
        "id": "QQhZ8G0QGUtQ"
      },
      "id": "QQhZ8G0QGUtQ"
    },
    {
      "cell_type": "code",
      "source": [
        "single_img = X_train[0,:,:,]"
      ],
      "metadata": {
        "id": "2atih4tnC_-l"
      },
      "id": "2atih4tnC_-l",
      "execution_count": 14,
      "outputs": []
    },
    {
      "cell_type": "code",
      "source": [
        "plt.imshow(single_img, cmap=\"gray_r\")"
      ],
      "metadata": {
        "colab": {
          "base_uri": "https://localhost:8080/",
          "height": 447
        },
        "id": "mAYe508MDOkW",
        "outputId": "902b8f3d-36c8-4667-8c33-79c18f1b9d49"
      },
      "id": "mAYe508MDOkW",
      "execution_count": 18,
      "outputs": [
        {
          "output_type": "execute_result",
          "data": {
            "text/plain": [
              "<matplotlib.image.AxesImage at 0x7c1b6d5a6200>"
            ]
          },
          "metadata": {},
          "execution_count": 18
        },
        {
          "output_type": "display_data",
          "data": {
            "text/plain": [
              "<Figure size 640x480 with 1 Axes>"
            ],
            "image/png": "[encoded data removed]"
          },
          "metadata": {}
        }
      ]
    },
    {
      "cell_type": "code",
      "source": [
        "y_train.shape"
      ],
      "metadata": {
        "colab": {
          "base_uri": "https://localhost:8080/"
        },
        "id": "ND0_KTmXEITt",
        "outputId": "39f9b99a-38e5-4586-f9be-ef057761210e"
      },
      "id": "ND0_KTmXEITt",
      "execution_count": 21,
      "outputs": [
        {
          "output_type": "execute_result",
          "data": {
            "text/plain": [
              "(60000,)"
            ]
          },
          "metadata": {},
          "execution_count": 21
        }
      ]
    },
    {
      "cell_type": "markdown",
      "source": [
        "## One Hot Encoding"
      ],
      "metadata": {
        "id": "mu1a5mvCGIU_"
      },
      "id": "mu1a5mvCGIU_"
    },
    {
      "cell_type": "code",
      "source": [
        "from keras.utils.np_utils import to_categorical"
      ],
      "metadata": {
        "id": "sPURxo9xEPJu"
      },
      "id": "sPURxo9xEPJu",
      "execution_count": 22,
      "outputs": []
    },
    {
      "cell_type": "code",
      "source": [
        "y_cat_train = to_categorical(y_train, 10)\n",
        "y_cat_test =  to_categorical(y_test, 10)"
      ],
      "metadata": {
        "id": "nOh2f0ZYFBNr"
      },
      "id": "nOh2f0ZYFBNr",
      "execution_count": 25,
      "outputs": []
    },
    {
      "cell_type": "code",
      "source": [
        "y_cat_train"
      ],
      "metadata": {
        "colab": {
          "base_uri": "https://localhost:8080/"
        },
        "id": "GIlRVW40FWCR",
        "outputId": "52decf6c-9b76-4bb0-b3be-892bd35601b1"
      },
      "id": "GIlRVW40FWCR",
      "execution_count": 26,
      "outputs": [
        {
          "output_type": "execute_result",
          "data": {
            "text/plain": [
              "array([[0., 0., 0., ..., 0., 0., 0.],\n",
              "       [1., 0., 0., ..., 0., 0., 0.],\n",
              "       [0., 0., 0., ..., 0., 0., 0.],\n",
              "       ...,\n",
              "       [0., 0., 0., ..., 0., 0., 0.],\n",
              "       [0., 0., 0., ..., 0., 0., 0.],\n",
              "       [0., 0., 0., ..., 0., 1., 0.]], dtype=float32)"
            ]
          },
          "metadata": {},
          "execution_count": 26
        }
      ]
    },
    {
      "cell_type": "code",
      "source": [
        "y_cat_train[0]"
      ],
      "metadata": {
        "colab": {
          "base_uri": "https://localhost:8080/"
        },
        "id": "DGOXNbEpFurY",
        "outputId": "3a964cdf-8f51-4834-8b6d-736ae2ddf9d5"
      },
      "id": "DGOXNbEpFurY",
      "execution_count": 27,
      "outputs": [
        {
          "output_type": "execute_result",
          "data": {
            "text/plain": [
              "array([0., 0., 0., 0., 0., 1., 0., 0., 0., 0.], dtype=float32)"
            ]
          },
          "metadata": {},
          "execution_count": 27
        }
      ]
    },
    {
      "cell_type": "markdown",
      "source": [
        "## Normalize X_train, X_test"
      ],
      "metadata": {
        "id": "N3QP-dfLGu_r"
      },
      "id": "N3QP-dfLGu_r"
    },
    {
      "cell_type": "code",
      "source": [
        "X_train = X_train / X_train.max()"
      ],
      "metadata": {
        "id": "XriEvwNNF6ID"
      },
      "id": "XriEvwNNF6ID",
      "execution_count": 28,
      "outputs": []
    },
    {
      "cell_type": "code",
      "source": [
        "X_test = X_test / X_test.max()"
      ],
      "metadata": {
        "id": "rq6au-E8G9CM"
      },
      "id": "rq6au-E8G9CM",
      "execution_count": 29,
      "outputs": []
    },
    {
      "cell_type": "code",
      "source": [
        "X_train.max()"
      ],
      "metadata": {
        "colab": {
          "base_uri": "https://localhost:8080/"
        },
        "id": "mXnc8yk1HD-T",
        "outputId": "bd55858b-7abd-453b-9b79-52d6ea80e8ca"
      },
      "id": "mXnc8yk1HD-T",
      "execution_count": 30,
      "outputs": [
        {
          "output_type": "execute_result",
          "data": {
            "text/plain": [
              "1.0"
            ]
          },
          "metadata": {},
          "execution_count": 30
        }
      ]
    },
    {
      "cell_type": "code",
      "source": [
        "scaled_img = X_train[0]"
      ],
      "metadata": {
        "id": "1zxVHUkaHLxv"
      },
      "id": "1zxVHUkaHLxv",
      "execution_count": 31,
      "outputs": []
    },
    {
      "cell_type": "code",
      "source": [
        "scaled_img.max() # between 0-1"
      ],
      "metadata": {
        "colab": {
          "base_uri": "https://localhost:8080/"
        },
        "id": "MvEfntv6HQrH",
        "outputId": "93d44b49-5742-4457-fbf5-f7cc549feb64"
      },
      "id": "MvEfntv6HQrH",
      "execution_count": 33,
      "outputs": [
        {
          "output_type": "execute_result",
          "data": {
            "text/plain": [
              "1.0"
            ]
          },
          "metadata": {},
          "execution_count": 33
        }
      ]
    },
    {
      "cell_type": "code",
      "source": [
        "plt.imshow(scaled_img, \"gray_r\")"
      ],
      "metadata": {
        "colab": {
          "base_uri": "https://localhost:8080/",
          "height": 447
        },
        "id": "StjcbGypHaQy",
        "outputId": "fddf47ef-2c6e-41c6-a52e-65a5d75dcd32"
      },
      "id": "StjcbGypHaQy",
      "execution_count": 34,
      "outputs": [
        {
          "output_type": "execute_result",
          "data": {
            "text/plain": [
              "<matplotlib.image.AxesImage at 0x7c1b6d5f45b0>"
            ]
          },
          "metadata": {},
          "execution_count": 34
        },
        {
          "output_type": "display_data",
          "data": {
            "text/plain": [
              "<Figure size 640x480 with 1 Axes>"
            ],
            "image/png": "[encoded data removed]"
          },
          "metadata": {}
        }
      ]
    },
    {
      "cell_type": "markdown",
      "source": [
        "## Resahpe X_train, X_test"
      ],
      "metadata": {
        "id": "V4K7GVCAH1ey"
      },
      "id": "V4K7GVCAH1ey"
    },
    {
      "cell_type": "code",
      "source": [
        "X_train.shape  # without color channel"
      ],
      "metadata": {
        "colab": {
          "base_uri": "https://localhost:8080/"
        },
        "id": "89knFQN7Hp87",
        "outputId": "29708737-3695-4864-a42a-8d0e8b0207ba"
      },
      "id": "89knFQN7Hp87",
      "execution_count": 35,
      "outputs": [
        {
          "output_type": "execute_result",
          "data": {
            "text/plain": [
              "(60000, 28, 28)"
            ]
          },
          "metadata": {},
          "execution_count": 35
        }
      ]
    },
    {
      "cell_type": "code",
      "source": [
        "X_train = X_train.reshape(60000, 28, 28, 1)   # Adding color channel"
      ],
      "metadata": {
        "id": "EjJ1HoWVH-Ul"
      },
      "id": "EjJ1HoWVH-Ul",
      "execution_count": 36,
      "outputs": []
    },
    {
      "cell_type": "code",
      "source": [
        "X_train.shape"
      ],
      "metadata": {
        "colab": {
          "base_uri": "https://localhost:8080/"
        },
        "id": "NwmoZ-lBIV5v",
        "outputId": "3a7a765b-b3ff-4e0f-ce8c-38c4142aff9c"
      },
      "id": "NwmoZ-lBIV5v",
      "execution_count": 37,
      "outputs": [
        {
          "output_type": "execute_result",
          "data": {
            "text/plain": [
              "(60000, 28, 28, 1)"
            ]
          },
          "metadata": {},
          "execution_count": 37
        }
      ]
    },
    {
      "cell_type": "code",
      "source": [
        "X_test.shape"
      ],
      "metadata": {
        "colab": {
          "base_uri": "https://localhost:8080/"
        },
        "id": "T7nljD4IIb_O",
        "outputId": "8296310f-1f6f-4b93-efc9-3534f5ac8763"
      },
      "id": "T7nljD4IIb_O",
      "execution_count": 38,
      "outputs": [
        {
          "output_type": "execute_result",
          "data": {
            "text/plain": [
              "(10000, 28, 28)"
            ]
          },
          "metadata": {},
          "execution_count": 38
        }
      ]
    },
    {
      "cell_type": "code",
      "source": [
        "X_test = X_test.reshape(10000, 28, 28, 1)"
      ],
      "metadata": {
        "id": "5oeWXPkHIhQ0"
      },
      "id": "5oeWXPkHIhQ0",
      "execution_count": 39,
      "outputs": []
    },
    {
      "cell_type": "code",
      "source": [
        "X_test.shape"
      ],
      "metadata": {
        "colab": {
          "base_uri": "https://localhost:8080/"
        },
        "id": "NEA_WIgDInjM",
        "outputId": "3dad3b7e-097a-4c0c-c22d-5bd2631c41e8"
      },
      "id": "NEA_WIgDInjM",
      "execution_count": 41,
      "outputs": [
        {
          "output_type": "execute_result",
          "data": {
            "text/plain": [
              "(10000, 28, 28, 1)"
            ]
          },
          "metadata": {},
          "execution_count": 41
        }
      ]
    },
    {
      "cell_type": "markdown",
      "source": [
        "## Define Model"
      ],
      "metadata": {
        "id": "jFmTHEdsI6ZU"
      },
      "id": "jFmTHEdsI6ZU"
    },
    {
      "cell_type": "code",
      "source": [
        "from keras.models import Sequential\n",
        "from keras.layers import Dense, Conv2D, MaxPool2D, Flatten"
      ],
      "metadata": {
        "id": "Ik0WnT8LIsLP"
      },
      "id": "Ik0WnT8LIsLP",
      "execution_count": 42,
      "outputs": []
    },
    {
      "cell_type": "code",
      "source": [
        "model = Sequential()\n",
        "\n",
        "# Convolutional Layer\n",
        "model.add(Conv2D(input_shape=(28, 28, 1), filters=32, kernel_size=(4,4), activation=\"relu\"))\n",
        "\n",
        "# Pooling Layer\n",
        "model.add(MaxPool2D(pool_size=(2,2)))\n",
        "\n",
        "# Flatten Layer  -- 2d ---> 1d\n",
        "model.add(Flatten())\n",
        "\n",
        "# Dense Layer\n",
        "model.add(Dense(128, activation=\"relu\"))\n",
        "\n",
        "# Output Layer\n",
        "model.add(Dense(10, activation=\"softmax\"))\n",
        "\n",
        "model.compile(loss=\"categorical_crossentropy\", optimizer=\"rmsprop\", metrics=[\"accuracy\"])\n"
      ],
      "metadata": {
        "id": "5sIOVeBtJe3i"
      },
      "id": "5sIOVeBtJe3i",
      "execution_count": 44,
      "outputs": []
    },
    {
      "cell_type": "code",
      "source": [
        "model.summary()"
      ],
      "metadata": {
        "colab": {
          "base_uri": "https://localhost:8080/"
        },
        "id": "TfmjBETHNh3T",
        "outputId": "75799f43-9aa5-4f91-cfc9-ec046cac8e61"
      },
      "id": "TfmjBETHNh3T",
      "execution_count": 45,
      "outputs": [
        {
          "output_type": "stream",
          "name": "stdout",
          "text": [
            "Model: \"sequential\"\n",
            "_________________________________________________________________\n",
            " Layer (type)                Output Shape              Param #   \n",
            "=================================================================\n",
            " conv2d_1 (Conv2D)           (None, 25, 25, 32)        544       \n",
            "                                                                 \n",
            " max_pooling2d (MaxPooling2D  (None, 12, 12, 32)       0         \n",
            " )                                                               \n",
            "                                                                 \n",
            " flatten (Flatten)           (None, 4608)              0         \n",
            "                                                                 \n",
            " dense (Dense)               (None, 128)               589952    \n",
            "                                                                 \n",
            " dense_1 (Dense)             (None, 10)                1290      \n",
            "                                                                 \n",
            "=================================================================\n",
            "Total params: 591,786\n",
            "Trainable params: 591,786\n",
            "Non-trainable params: 0\n",
            "_________________________________________________________________\n"
          ]
        }
      ]
    },
    {
      "cell_type": "code",
      "source": [
        "model.fit(X_train, y_cat_train, epochs=2)"
      ],
      "metadata": {
        "id": "ecnybrq8OvFt",
        "outputId": "7beb1ea1-b027-42eb-e163-12b106ac3603",
        "colab": {
          "base_uri": "https://localhost:8080/"
        }
      },
      "id": "ecnybrq8OvFt",
      "execution_count": 46,
      "outputs": [
        {
          "output_type": "stream",
          "name": "stdout",
          "text": [
            "Epoch 1/2\n",
            "1875/1875 [==============================] - 37s 19ms/step - loss: 0.1417 - accuracy: 0.9567\n",
            "Epoch 2/2\n",
            "1875/1875 [==============================] - 36s 19ms/step - loss: 0.0474 - accuracy: 0.9856\n"
          ]
        },
        {
          "output_type": "execute_result",
          "data": {
            "text/plain": [
              "<keras.callbacks.History at 0x7c1b718206d0>"
            ]
          },
          "metadata": {},
          "execution_count": 46
        }
      ]
    },
    {
      "cell_type": "code",
      "source": [
        "model.metrics_names"
      ],
      "metadata": {
        "id": "MGeqc9mtPXu5",
        "outputId": "0e1e6743-6194-4040-9248-e939800c6d5e",
        "colab": {
          "base_uri": "https://localhost:8080/"
        }
      },
      "id": "MGeqc9mtPXu5",
      "execution_count": 47,
      "outputs": [
        {
          "output_type": "execute_result",
          "data": {
            "text/plain": [
              "['loss', 'accuracy']"
            ]
          },
          "metadata": {},
          "execution_count": 47
        }
      ]
    },
    {
      "cell_type": "code",
      "source": [
        "model.evaluate(X_test, y_cat_test)"
      ],
      "metadata": {
        "id": "lYkF-epgPksN",
        "outputId": "308fffbb-717f-42a7-f8ff-086681a617c1",
        "colab": {
          "base_uri": "https://localhost:8080/"
        }
      },
      "id": "lYkF-epgPksN",
      "execution_count": 48,
      "outputs": [
        {
          "output_type": "stream",
          "name": "stdout",
          "text": [
            "313/313 [==============================] - 2s 7ms/step - loss: 0.0369 - accuracy: 0.9879\n"
          ]
        },
        {
          "output_type": "execute_result",
          "data": {
            "text/plain": [
              "[0.03692212700843811, 0.9879000186920166]"
            ]
          },
          "metadata": {},
          "execution_count": 48
        }
      ]
    },
    {
      "cell_type": "code",
      "source": [
        "import numpy as np\n",
        "from sklearn.metrics import classification_report"
      ],
      "metadata": {
        "id": "oRfNuDS8P5yp"
      },
      "id": "oRfNuDS8P5yp",
      "execution_count": 52,
      "outputs": []
    },
    {
      "cell_type": "code",
      "source": [
        "y_pred = np.argmax(model.predict(X_test),axis=1)"
      ],
      "metadata": {
        "id": "5nAHxg2aQVN-",
        "outputId": "94b1b574-4057-4cdf-a989-e257b6b94932",
        "colab": {
          "base_uri": "https://localhost:8080/"
        }
      },
      "id": "5nAHxg2aQVN-",
      "execution_count": 56,
      "outputs": [
        {
          "output_type": "stream",
          "name": "stdout",
          "text": [
            "313/313 [==============================] - 2s 5ms/step\n"
          ]
        }
      ]
    },
    {
      "cell_type": "code",
      "source": [
        "y_pred"
      ],
      "metadata": {
        "id": "8Tt3j2xRST4E",
        "outputId": "2a0d435f-ba2b-4472-a326-9ddbf6ae098b",
        "colab": {
          "base_uri": "https://localhost:8080/"
        }
      },
      "id": "8Tt3j2xRST4E",
      "execution_count": 57,
      "outputs": [
        {
          "output_type": "execute_result",
          "data": {
            "text/plain": [
              "array([7, 2, 1, ..., 4, 5, 6])"
            ]
          },
          "metadata": {},
          "execution_count": 57
        }
      ]
    },
    {
      "cell_type": "code",
      "source": [
        "y_test"
      ],
      "metadata": {
        "id": "IjBBZCp9Sb7p",
        "outputId": "f2dab523-3d7e-4527-b671-e5ac8dde4362",
        "colab": {
          "base_uri": "https://localhost:8080/"
        }
      },
      "id": "IjBBZCp9Sb7p",
      "execution_count": 58,
      "outputs": [
        {
          "output_type": "execute_result",
          "data": {
            "text/plain": [
              "array([7, 2, 1, ..., 4, 5, 6], dtype=uint8)"
            ]
          },
          "metadata": {},
          "execution_count": 58
        }
      ]
    },
    {
      "cell_type": "code",
      "source": [
        "print(classification_report(y_test, y_pred))"
      ],
      "metadata": {
        "id": "wPAPK0ZsShRv",
        "outputId": "97c82149-78d4-4888-c474-1fd73576db13",
        "colab": {
          "base_uri": "https://localhost:8080/"
        }
      },
      "id": "wPAPK0ZsShRv",
      "execution_count": 59,
      "outputs": [
        {
          "output_type": "stream",
          "name": "stdout",
          "text": [
            "              precision    recall  f1-score   support\n",
            "\n",
            "           0       0.98      0.99      0.99       980\n",
            "           1       1.00      0.99      0.99      1135\n",
            "           2       0.99      0.99      0.99      1032\n",
            "           3       0.99      0.99      0.99      1010\n",
            "           4       0.99      0.99      0.99       982\n",
            "           5       0.99      0.99      0.99       892\n",
            "           6       0.99      0.98      0.99       958\n",
            "           7       0.99      0.99      0.99      1028\n",
            "           8       0.97      0.99      0.98       974\n",
            "           9       0.99      0.98      0.98      1009\n",
            "\n",
            "    accuracy                           0.99     10000\n",
            "   macro avg       0.99      0.99      0.99     10000\n",
            "weighted avg       0.99      0.99      0.99     10000\n",
            "\n"
          ]
        }
      ]
    },
    {
      "cell_type": "code",
      "source": [],
      "metadata": {
        "id": "TmI0VYiMS1l4"
      },
      "id": "TmI0VYiMS1l4",
      "execution_count": null,
      "outputs": []
    }
  ],
  "metadata": {
    "kernelspec": {
      "display_name": "Python 3 (ipykernel)",
      "language": "python",
      "name": "python3"
    },
    "language_info": {
      "codemirror_mode": {
        "name": "ipython",
        "version": 3
      },
      "file_extension": ".py",
      "mimetype": "text/x-python",
      "name": "python",
      "nbconvert_exporter": "python",
      "pygments_lexer": "ipython3",
      "version": "3.9.12"
    },
    "colab": {
      "provenance": []
    }
  },
  "nbformat": 4,
  "nbformat_minor": 5
}