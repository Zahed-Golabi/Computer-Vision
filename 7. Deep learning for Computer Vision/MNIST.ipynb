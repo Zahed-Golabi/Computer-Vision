{
  "cells": [
    {
      "cell_type": "code",
      "execution_count": 3,
      "id": "48429da2",
      "metadata": {
        "id": "48429da2"
      },
      "outputs": [],
      "source": [
        "import matplotlib.pyplot as plt\n",
        "from keras.datasets import mnist"
      ]
    },
    {
      "cell_type": "markdown",
      "source": [
        "## Load MNIST Dataset"
      ],
      "metadata": {
        "id": "YBr44fAiGPhg"
      },
      "id": "YBr44fAiGPhg"
    },
    {
      "cell_type": "code",
      "source": [
        "(X_train,y_train), (X_test,y_test) = mnist.load_data()"
      ],
      "metadata": {
        "id": "1c7G3N4aChqY",
        "outputId": "d90730d9-ab50-4e06-b455-d504bb738fe6",
        "colab": {
          "base_uri": "https://localhost:8080/"
        }
      },
      "id": "1c7G3N4aChqY",
      "execution_count": 2,
      "outputs": [
        {
          "output_type": "stream",
          "name": "stdout",
          "text": [
            "Downloading data from https://storage.googleapis.com/tensorflow/tf-keras-datasets/mnist.npz\n",
            "11490434/11490434 [==============================] - 0s 0us/step\n"
          ]
        }
      ]
    },
    {
      "cell_type": "code",
      "source": [
        "X_train.shape"
      ],
      "metadata": {
        "id": "nyaQA8BlCskZ",
        "outputId": "748e0fc8-e933-4eae-a281-742c480c6649",
        "colab": {
          "base_uri": "https://localhost:8080/"
        }
      },
      "id": "nyaQA8BlCskZ",
      "execution_count": 4,
      "outputs": [
        {
          "output_type": "execute_result",
          "data": {
            "text/plain": [
              "(60000, 28, 28)"
            ]
          },
          "metadata": {},
          "execution_count": 4
        }
      ]
    },
    {
      "cell_type": "markdown",
      "source": [
        "### Show First Image"
      ],
      "metadata": {
        "id": "QQhZ8G0QGUtQ"
      },
      "id": "QQhZ8G0QGUtQ"
    },
    {
      "cell_type": "code",
      "source": [
        "single_img = X_train[0,:,:,]"
      ],
      "metadata": {
        "id": "2atih4tnC_-l"
      },
      "id": "2atih4tnC_-l",
      "execution_count": 14,
      "outputs": []
    },
    {
      "cell_type": "code",
      "source": [
        "plt.imshow(single_img, cmap=\"gray_r\")"
      ],
      "metadata": {
        "id": "mAYe508MDOkW",
        "outputId": "902b8f3d-36c8-4667-8c33-79c18f1b9d49",
        "colab": {
          "base_uri": "https://localhost:8080/",
          "height": 447
        }
      },
      "id": "mAYe508MDOkW",
      "execution_count": 18,
      "outputs": [
        {
          "output_type": "execute_result",
          "data": {
            "text/plain": [
              "<matplotlib.image.AxesImage at 0x7c1b6d5a6200>"
            ]
          },
          "metadata": {},
          "execution_count": 18
        },
        {
          "output_type": "display_data",
          "data": {
            "text/plain": [
              "<Figure size 640x480 with 1 Axes>"
            ],
            "image/png": "[encoded data removed]"
          },
          "metadata": {}
        }
      ]
    },
    {
      "cell_type": "code",
      "source": [
        "y_train.shape"
      ],
      "metadata": {
        "id": "ND0_KTmXEITt",
        "outputId": "39f9b99a-38e5-4586-f9be-ef057761210e",
        "colab": {
          "base_uri": "https://localhost:8080/"
        }
      },
      "id": "ND0_KTmXEITt",
      "execution_count": 21,
      "outputs": [
        {
          "output_type": "execute_result",
          "data": {
            "text/plain": [
              "(60000,)"
            ]
          },
          "metadata": {},
          "execution_count": 21
        }
      ]
    },
    {
      "cell_type": "markdown",
      "source": [
        "## One Hot Encoding"
      ],
      "metadata": {
        "id": "mu1a5mvCGIU_"
      },
      "id": "mu1a5mvCGIU_"
    },
    {
      "cell_type": "code",
      "source": [
        "from keras.utils.np_utils import to_categorical"
      ],
      "metadata": {
        "id": "sPURxo9xEPJu"
      },
      "id": "sPURxo9xEPJu",
      "execution_count": 22,
      "outputs": []
    },
    {
      "cell_type": "code",
      "source": [
        "y_cat_train = to_categorical(y_train, 10)\n",
        "y_cat_test =  to_categorical(y_test, 10)"
      ],
      "metadata": {
        "id": "nOh2f0ZYFBNr"
      },
      "id": "nOh2f0ZYFBNr",
      "execution_count": 25,
      "outputs": []
    },
    {
      "cell_type": "code",
      "source": [
        "y_cat_train"
      ],
      "metadata": {
        "id": "GIlRVW40FWCR",
        "outputId": "52decf6c-9b76-4bb0-b3be-892bd35601b1",
        "colab": {
          "base_uri": "https://localhost:8080/"
        }
      },
      "id": "GIlRVW40FWCR",
      "execution_count": 26,
      "outputs": [
        {
          "output_type": "execute_result",
          "data": {
            "text/plain": [
              "array([[0., 0., 0., ..., 0., 0., 0.],\n",
              "       [1., 0., 0., ..., 0., 0., 0.],\n",
              "       [0., 0., 0., ..., 0., 0., 0.],\n",
              "       ...,\n",
              "       [0., 0., 0., ..., 0., 0., 0.],\n",
              "       [0., 0., 0., ..., 0., 0., 0.],\n",
              "       [0., 0., 0., ..., 0., 1., 0.]], dtype=float32)"
            ]
          },
          "metadata": {},
          "execution_count": 26
        }
      ]
    },
    {
      "cell_type": "code",
      "source": [
        "y_cat_train[0]"
      ],
      "metadata": {
        "id": "DGOXNbEpFurY",
        "outputId": "3a964cdf-8f51-4834-8b6d-736ae2ddf9d5",
        "colab": {
          "base_uri": "https://localhost:8080/"
        }
      },
      "id": "DGOXNbEpFurY",
      "execution_count": 27,
      "outputs": [
        {
          "output_type": "execute_result",
          "data": {
            "text/plain": [
              "array([0., 0., 0., 0., 0., 1., 0., 0., 0., 0.], dtype=float32)"
            ]
          },
          "metadata": {},
          "execution_count": 27
        }
      ]
    },
    {
      "cell_type": "code",
      "source": [],
      "metadata": {
        "id": "XriEvwNNF6ID"
      },
      "id": "XriEvwNNF6ID",
      "execution_count": null,
      "outputs": []
    }
  ],
  "metadata": {
    "kernelspec": {
      "display_name": "Python 3 (ipykernel)",
      "language": "python",
      "name": "python3"
    },
    "language_info": {
      "codemirror_mode": {
        "name": "ipython",
        "version": 3
      },
      "file_extension": ".py",
      "mimetype": "text/x-python",
      "name": "python",
      "nbconvert_exporter": "python",
      "pygments_lexer": "ipython3",
      "version": "3.9.12"
    },
    "colab": {
      "provenance": []
    }
  },
  "nbformat": 4,
  "nbformat_minor": 5
}