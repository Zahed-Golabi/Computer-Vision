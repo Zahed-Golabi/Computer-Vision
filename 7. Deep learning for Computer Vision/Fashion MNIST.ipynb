{
  "cells": [
    {
      "cell_type": "markdown",
      "id": "1ac3a562",
      "metadata": {
        "id": "1ac3a562"
      },
      "source": [
        "# Imports"
      ]
    },
    {
      "cell_type": "code",
      "execution_count": 26,
      "id": "9b457c6d",
      "metadata": {
        "id": "9b457c6d"
      },
      "outputs": [],
      "source": [
        "import numpy as np\n",
        "import matplotlib.pyplot as plt\n",
        "from keras.datasets import fashion_mnist\n",
        "\n",
        "from keras.utils import to_categorical\n",
        "from keras.layers import Conv2D, MaxPooling2D, Dropout, Dense, Flatten\n",
        "from keras.models import Sequential"
      ]
    },
    {
      "cell_type": "markdown",
      "source": [
        "## Load Dataset"
      ],
      "metadata": {
        "id": "boZAo00N9pVU"
      },
      "id": "boZAo00N9pVU"
    },
    {
      "cell_type": "code",
      "source": [
        "(X_train,y_train),(X_test,y_test) = fashion_mnist.load_data()"
      ],
      "metadata": {
        "colab": {
          "base_uri": "https://localhost:8080/"
        },
        "id": "DxtB2cUU9n_4",
        "outputId": "f4eb6a3b-341a-4af8-8145-c14eb86f8043"
      },
      "id": "DxtB2cUU9n_4",
      "execution_count": 2,
      "outputs": [
        {
          "output_type": "stream",
          "name": "stdout",
          "text": [
            "Downloading data from https://storage.googleapis.com/tensorflow/tf-keras-datasets/train-labels-idx1-ubyte.gz\n",
            "29515/29515 [==============================] - 0s 0us/step\n",
            "Downloading data from https://storage.googleapis.com/tensorflow/tf-keras-datasets/train-images-idx3-ubyte.gz\n",
            "26421880/26421880 [==============================] - 0s 0us/step\n",
            "Downloading data from https://storage.googleapis.com/tensorflow/tf-keras-datasets/t10k-labels-idx1-ubyte.gz\n",
            "5148/5148 [==============================] - 0s 0us/step\n",
            "Downloading data from https://storage.googleapis.com/tensorflow/tf-keras-datasets/t10k-images-idx3-ubyte.gz\n",
            "4422102/4422102 [==============================] - 0s 0us/step\n"
          ]
        }
      ]
    },
    {
      "cell_type": "markdown",
      "source": [
        "## Visualizing the Data"
      ],
      "metadata": {
        "id": "Obxs9ooT-bIz"
      },
      "id": "Obxs9ooT-bIz"
    },
    {
      "cell_type": "code",
      "source": [
        "img = X_train[0]"
      ],
      "metadata": {
        "id": "mOxsK0rw93WN"
      },
      "id": "mOxsK0rw93WN",
      "execution_count": 8,
      "outputs": []
    },
    {
      "cell_type": "code",
      "source": [
        "plt.imshow(img)"
      ],
      "metadata": {
        "colab": {
          "base_uri": "https://localhost:8080/",
          "height": 447
        },
        "id": "eZhXOWTT-saT",
        "outputId": "e4412293-70c6-40cd-a15b-d7eb83140040"
      },
      "id": "eZhXOWTT-saT",
      "execution_count": 10,
      "outputs": [
        {
          "output_type": "execute_result",
          "data": {
            "text/plain": [
              "<matplotlib.image.AxesImage at 0x7db08db21150>"
            ]
          },
          "metadata": {},
          "execution_count": 10
        },
        {
          "output_type": "display_data",
          "data": {
            "text/plain": [
              "<Figure size 640x480 with 1 Axes>"
            ],
            "image/png": "[encoded data removed]"
          },
          "metadata": {}
        }
      ]
    },
    {
      "cell_type": "code",
      "source": [
        "img_label = y_train[0]"
      ],
      "metadata": {
        "id": "05NtrLAH-9ar"
      },
      "id": "05NtrLAH-9ar",
      "execution_count": 11,
      "outputs": []
    },
    {
      "cell_type": "code",
      "source": [
        "img_label"
      ],
      "metadata": {
        "colab": {
          "base_uri": "https://localhost:8080/"
        },
        "id": "MluQuhOj_B3e",
        "outputId": "44462efa-0c9a-456c-d654-cb0d00a46f2e"
      },
      "id": "MluQuhOj_B3e",
      "execution_count": 12,
      "outputs": [
        {
          "output_type": "execute_result",
          "data": {
            "text/plain": [
              "9"
            ]
          },
          "metadata": {},
          "execution_count": 12
        }
      ]
    },
    {
      "cell_type": "markdown",
      "source": [
        "## Preprocessing the Data"
      ],
      "metadata": {
        "id": "qBWowZZV_eQd"
      },
      "id": "qBWowZZV_eQd"
    },
    {
      "cell_type": "code",
      "source": [
        "X_train.shape"
      ],
      "metadata": {
        "id": "cvpLMbnq_3Fj",
        "outputId": "f7b35401-ea38-4e98-844b-5339157d04a5",
        "colab": {
          "base_uri": "https://localhost:8080/"
        }
      },
      "id": "cvpLMbnq_3Fj",
      "execution_count": 17,
      "outputs": [
        {
          "output_type": "execute_result",
          "data": {
            "text/plain": [
              "(60000, 28, 28)"
            ]
          },
          "metadata": {},
          "execution_count": 17
        }
      ]
    },
    {
      "cell_type": "markdown",
      "source": [
        "#### Normalize"
      ],
      "metadata": {
        "id": "ofUpZQLcAYqw"
      },
      "id": "ofUpZQLcAYqw"
    },
    {
      "cell_type": "code",
      "source": [
        "X_train[0].max()"
      ],
      "metadata": {
        "colab": {
          "base_uri": "https://localhost:8080/"
        },
        "id": "eK0TvAzQ_NM5",
        "outputId": "49507b7f-c3b1-4aed-8bae-19ab65a71bfa"
      },
      "id": "eK0TvAzQ_NM5",
      "execution_count": 16,
      "outputs": [
        {
          "output_type": "execute_result",
          "data": {
            "text/plain": [
              "255"
            ]
          },
          "metadata": {},
          "execution_count": 16
        }
      ]
    },
    {
      "cell_type": "code",
      "source": [
        "X_train = X_train / 255"
      ],
      "metadata": {
        "id": "o9-sKccG_dGb"
      },
      "id": "o9-sKccG_dGb",
      "execution_count": 18,
      "outputs": []
    },
    {
      "cell_type": "markdown",
      "source": [
        "#### Reshape X to 4 dimension"
      ],
      "metadata": {
        "id": "I4pjNV_1BCxu"
      },
      "id": "I4pjNV_1BCxu"
    },
    {
      "cell_type": "code",
      "source": [
        "X_train = X_train.reshape(60000,28,28,1)"
      ],
      "metadata": {
        "id": "tbbTdkaUAErP"
      },
      "id": "tbbTdkaUAErP",
      "execution_count": 21,
      "outputs": []
    },
    {
      "cell_type": "code",
      "source": [
        "X_test.shape"
      ],
      "metadata": {
        "id": "23U-5FO6EATL",
        "outputId": "c534f2df-7ead-4ccd-e9f1-ae0faabedcbc",
        "colab": {
          "base_uri": "https://localhost:8080/"
        }
      },
      "id": "23U-5FO6EATL",
      "execution_count": 23,
      "outputs": [
        {
          "output_type": "execute_result",
          "data": {
            "text/plain": [
              "(10000, 28, 28)"
            ]
          },
          "metadata": {},
          "execution_count": 23
        }
      ]
    },
    {
      "cell_type": "code",
      "source": [
        "X_test = X_test.reshape(10000,28,28,1)"
      ],
      "metadata": {
        "id": "vI28ESHJAJMC"
      },
      "id": "vI28ESHJAJMC",
      "execution_count": 24,
      "outputs": []
    },
    {
      "cell_type": "code",
      "source": [
        "X_test.shape"
      ],
      "metadata": {
        "id": "5EmSlZt4EGce",
        "outputId": "f0440c1d-2e46-47b7-fb17-2ee182e39647",
        "colab": {
          "base_uri": "https://localhost:8080/"
        }
      },
      "id": "5EmSlZt4EGce",
      "execution_count": 25,
      "outputs": [
        {
          "output_type": "execute_result",
          "data": {
            "text/plain": [
              "(10000, 28, 28, 1)"
            ]
          },
          "metadata": {},
          "execution_count": 25
        }
      ]
    },
    {
      "cell_type": "markdown",
      "source": [
        "#### One Hot Encoding\n",
        "\n"
      ],
      "metadata": {
        "id": "a59cqKPaEPIE"
      },
      "id": "a59cqKPaEPIE"
    },
    {
      "cell_type": "code",
      "source": [
        "y_train = to_categorical(y_train)"
      ],
      "metadata": {
        "id": "1K3AeGTvEUCr"
      },
      "id": "1K3AeGTvEUCr",
      "execution_count": 27,
      "outputs": []
    },
    {
      "cell_type": "code",
      "source": [
        "y_test = to_categorical(y_test)"
      ],
      "metadata": {
        "id": "dR1zwbhqFChX"
      },
      "id": "dR1zwbhqFChX",
      "execution_count": 29,
      "outputs": []
    },
    {
      "cell_type": "markdown",
      "source": [
        "## Define Model"
      ],
      "metadata": {
        "id": "I5PkG58RFRVa"
      },
      "id": "I5PkG58RFRVa"
    },
    {
      "cell_type": "code",
      "source": [
        "model = Sequential()\n",
        "\n",
        "# Convolution Layer\n",
        "model.add(Conv2D(input_shape=X_train.shape[1:], filters=32, kernel_size=(4,4)))\n",
        "\n",
        "# MaxPooling Layer\n",
        "model.add(MaxPooling2D(pool_size=(2,2)))\n",
        "\n",
        "# Convolution Layer\n",
        "model.add(Conv2D(input_shape=X_train.shape[1:], filters=64, kernel_size=(4,4)))\n",
        "\n",
        "# MaxPooling Layer\n",
        "model.add(MaxPooling2D(pool_size=(2,2)))\n",
        "\n",
        "# Convolution Layer\n",
        "model.add(Conv2D(input_shape=X_train.shape[1:], filters=32, kernel_size=(4,4)))\n",
        "\n",
        "# MaxPooling Layer\n",
        "model.add(MaxPooling2D(pool_size=(2,2)))\n",
        "\n",
        "# Flatten Layer\n",
        "model.add(Flatten())\n",
        "\n",
        "# Dense Layer\n",
        "model.add(Dense(units=128, activation=\"relu\"))\n",
        "\n",
        "# Dense Layer\n",
        "model.add(Dense(units=64, activation=\"relu\"))\n",
        "\n",
        "# Output Layer\n",
        "model.add(Dense(units=10, activation=\"softmax\"))\n",
        "\n",
        "# Compile Layer\n",
        "model.compile(loss=\"categorical_crossentropy\", optimizer=\"adam\", metrics=[\"accuracy\"])"
      ],
      "metadata": {
        "id": "wtNx_t1pFPR5"
      },
      "id": "wtNx_t1pFPR5",
      "execution_count": 32,
      "outputs": []
    },
    {
      "cell_type": "code",
      "source": [
        "model.summary()"
      ],
      "metadata": {
        "id": "p8Qqy_t4JgGD",
        "outputId": "969df953-5474-4334-9166-84972708a44d",
        "colab": {
          "base_uri": "https://localhost:8080/"
        }
      },
      "id": "p8Qqy_t4JgGD",
      "execution_count": 33,
      "outputs": [
        {
          "output_type": "stream",
          "name": "stdout",
          "text": [
            "Model: \"sequential_2\"\n",
            "_________________________________________________________________\n",
            " Layer (type)                Output Shape              Param #   \n",
            "=================================================================\n",
            " conv2d_6 (Conv2D)           (None, 25, 25, 32)        544       \n",
            "                                                                 \n",
            " max_pooling2d_6 (MaxPooling  (None, 12, 12, 32)       0         \n",
            " 2D)                                                             \n",
            "                                                                 \n",
            " conv2d_7 (Conv2D)           (None, 9, 9, 64)          32832     \n",
            "                                                                 \n",
            " max_pooling2d_7 (MaxPooling  (None, 4, 4, 64)         0         \n",
            " 2D)                                                             \n",
            "                                                                 \n",
            " conv2d_8 (Conv2D)           (None, 1, 1, 32)          32800     \n",
            "                                                                 \n",
            " flatten (Flatten)           (None, 32)                0         \n",
            "                                                                 \n",
            " dense (Dense)               (None, 128)               4224      \n",
            "                                                                 \n",
            " dense_1 (Dense)             (None, 64)                8256      \n",
            "                                                                 \n",
            " dense_2 (Dense)             (None, 10)                650       \n",
            "                                                                 \n",
            "=================================================================\n",
            "Total params: 79,306\n",
            "Trainable params: 79,306\n",
            "Non-trainable params: 0\n",
            "_________________________________________________________________\n"
          ]
        }
      ]
    }
  ],
  "metadata": {
    "kernelspec": {
      "display_name": "Python 3 (ipykernel)",
      "language": "python",
      "name": "python3"
    },
    "language_info": {
      "codemirror_mode": {
        "name": "ipython",
        "version": 3
      },
      "file_extension": ".py",
      "mimetype": "text/x-python",
      "name": "python",
      "nbconvert_exporter": "python",
      "pygments_lexer": "ipython3",
      "version": "3.9.12"
    },
    "colab": {
      "provenance": []
    }
  },
  "nbformat": 4,
  "nbformat_minor": 5
}