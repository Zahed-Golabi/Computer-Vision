{
  "cells": [
    {
      "cell_type": "markdown",
      "id": "2845bd01",
      "metadata": {
        "id": "2845bd01"
      },
      "source": [
        "# Cats and Dogs"
      ]
    },
    {
      "cell_type": "markdown",
      "source": [
        "## Imports"
      ],
      "metadata": {
        "id": "OD8UZPmCktih"
      },
      "id": "OD8UZPmCktih"
    },
    {
      "cell_type": "code",
      "execution_count": 15,
      "id": "2a3264c0",
      "metadata": {
        "id": "2a3264c0"
      },
      "outputs": [],
      "source": [
        "import numpy as np\n",
        "import pandas as pd\n",
        "import matplotlib.pyplot as plt\n",
        "import cv2\n",
        "\n",
        "from keras.models import Sequential\n",
        "from keras.layers import Conv2D, MaxPooling2D, Dense, Flatten"
      ]
    },
    {
      "cell_type": "markdown",
      "source": [
        "## Connect to Google Drive"
      ],
      "metadata": {
        "id": "uwYMrBDMnoQL"
      },
      "id": "uwYMrBDMnoQL"
    },
    {
      "cell_type": "code",
      "source": [
        "from google.colab import drive\n",
        "drive.mount('/content/drive')"
      ],
      "metadata": {
        "id": "uh5rud3fksrC",
        "outputId": "41a4ec01-2a7e-4783-aee0-64bf94a55abb",
        "colab": {
          "base_uri": "https://localhost:8080/"
        }
      },
      "id": "uh5rud3fksrC",
      "execution_count": 11,
      "outputs": [
        {
          "output_type": "stream",
          "name": "stdout",
          "text": [
            "Drive already mounted at /content/drive; to attempt to forcibly remount, call drive.mount(\"/content/drive\", force_remount=True).\n"
          ]
        }
      ]
    },
    {
      "cell_type": "code",
      "source": [
        "import os\n",
        "import zipfile"
      ],
      "metadata": {
        "id": "rLUWx7DKn8Fq"
      },
      "id": "rLUWx7DKn8Fq",
      "execution_count": 12,
      "outputs": []
    },
    {
      "cell_type": "code",
      "source": [
        "zip_ref = zipfile.ZipFile(\"/content/drive/MyDrive/Colab Notebooks/Dataset/CATS_DOGS.zip\", 'r')\n",
        "zip_ref.extractall(\"/content/CAT and Dogs\")\n",
        "zip_ref.close()"
      ],
      "metadata": {
        "id": "olpNoxbroE1A"
      },
      "id": "olpNoxbroE1A",
      "execution_count": 14,
      "outputs": []
    },
    {
      "cell_type": "code",
      "source": [],
      "metadata": {
        "id": "DvDb61RCo0s-",
        "outputId": "1a91ff77-e81a-4fb6-fcfa-a18d890e7ede",
        "colab": {
          "base_uri": "https://localhost:8080/"
        }
      },
      "id": "DvDb61RCo0s-",
      "execution_count": 8,
      "outputs": [
        {
          "output_type": "stream",
          "name": "stdout",
          "text": [
            "CATS_DOGS.zip\n"
          ]
        }
      ]
    }
  ],
  "metadata": {
    "kernelspec": {
      "display_name": "Python 3 (ipykernel)",
      "language": "python",
      "name": "python3"
    },
    "language_info": {
      "codemirror_mode": {
        "name": "ipython",
        "version": 3
      },
      "file_extension": ".py",
      "mimetype": "text/x-python",
      "name": "python",
      "nbconvert_exporter": "python",
      "pygments_lexer": "ipython3",
      "version": "3.9.12"
    },
    "colab": {
      "provenance": []
    }
  },
  "nbformat": 4,
  "nbformat_minor": 5
}