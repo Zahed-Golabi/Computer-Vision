{
  "cells": [
    {
      "cell_type": "markdown",
      "id": "01833941",
      "metadata": {
        "id": "01833941"
      },
      "source": [
        "# Keras Basics"
      ]
    },
    {
      "cell_type": "code",
      "execution_count": 37,
      "id": "93d79737",
      "metadata": {
        "id": "93d79737"
      },
      "outputs": [],
      "source": [
        "import numpy as np\n",
        "from numpy import genfromtxt\n",
        "from sklearn.model_selection import train_test_split\n",
        "from sklearn.metrics import confusion_matrix,classification_report\n",
        "from sklearn.preprocessing import MinMaxScaler\n",
        "\n",
        "from keras.models import Sequential\n",
        "from keras.models import load_model\n",
        "from keras.layers import Dense"
      ]
    },
    {
      "cell_type": "code",
      "execution_count": 2,
      "id": "b8019a2c",
      "metadata": {
        "id": "b8019a2c"
      },
      "outputs": [],
      "source": [
        "data = genfromtxt(\"bank_note_data.txt\", delimiter=\",\")"
      ]
    },
    {
      "cell_type": "code",
      "execution_count": 3,
      "id": "995b111b",
      "metadata": {
        "colab": {
          "base_uri": "https://localhost:8080/"
        },
        "id": "995b111b",
        "outputId": "9b038427-5735-4aef-b803-36c8c551ed0b"
      },
      "outputs": [
        {
          "output_type": "execute_result",
          "data": {
            "text/plain": [
              "array([[  3.6216 ,   8.6661 ,  -2.8073 ,  -0.44699,   0.     ],\n",
              "       [  4.5459 ,   8.1674 ,  -2.4586 ,  -1.4621 ,   0.     ],\n",
              "       [  3.866  ,  -2.6383 ,   1.9242 ,   0.10645,   0.     ],\n",
              "       ...,\n",
              "       [ -3.7503 , -13.4586 ,  17.5932 ,  -2.7771 ,   1.     ],\n",
              "       [ -3.5637 ,  -8.3827 ,  12.393  ,  -1.2823 ,   1.     ],\n",
              "       [ -2.5419 ,  -0.65804,   2.6842 ,   1.1952 ,   1.     ]])"
            ]
          },
          "metadata": {},
          "execution_count": 3
        }
      ],
      "source": [
        "data"
      ]
    },
    {
      "cell_type": "code",
      "execution_count": 4,
      "id": "ff799085",
      "metadata": {
        "colab": {
          "base_uri": "https://localhost:8080/"
        },
        "id": "ff799085",
        "outputId": "180fa2a4-77b1-41cd-d060-b86012a4d2bb"
      },
      "outputs": [
        {
          "output_type": "execute_result",
          "data": {
            "text/plain": [
              "1372"
            ]
          },
          "metadata": {},
          "execution_count": 4
        }
      ],
      "source": [
        "len(data)"
      ]
    },
    {
      "cell_type": "code",
      "execution_count": 5,
      "id": "2e4f1fc4",
      "metadata": {
        "id": "2e4f1fc4"
      },
      "outputs": [],
      "source": [
        "# Class\n",
        "labels = data[:, 4]"
      ]
    },
    {
      "cell_type": "code",
      "execution_count": 6,
      "id": "6f5be06f",
      "metadata": {
        "colab": {
          "base_uri": "https://localhost:8080/"
        },
        "id": "6f5be06f",
        "outputId": "5f892b45-6628-499b-c788-c65b6d572b3c"
      },
      "outputs": [
        {
          "output_type": "execute_result",
          "data": {
            "text/plain": [
              "array([0., 0., 0., ..., 1., 1., 1.])"
            ]
          },
          "metadata": {},
          "execution_count": 6
        }
      ],
      "source": [
        "labels"
      ]
    },
    {
      "cell_type": "code",
      "execution_count": 7,
      "id": "72be02a2",
      "metadata": {
        "id": "72be02a2"
      },
      "outputs": [],
      "source": [
        "# Features\n",
        "features = data[:,0:4]"
      ]
    },
    {
      "cell_type": "code",
      "execution_count": 8,
      "id": "c106e0c5",
      "metadata": {
        "colab": {
          "base_uri": "https://localhost:8080/"
        },
        "id": "c106e0c5",
        "outputId": "d3ede132-de41-4c78-9a34-8827c42ca62a"
      },
      "outputs": [
        {
          "output_type": "execute_result",
          "data": {
            "text/plain": [
              "array([[  3.6216 ,   8.6661 ,  -2.8073 ,  -0.44699],\n",
              "       [  4.5459 ,   8.1674 ,  -2.4586 ,  -1.4621 ],\n",
              "       [  3.866  ,  -2.6383 ,   1.9242 ,   0.10645],\n",
              "       ...,\n",
              "       [ -3.7503 , -13.4586 ,  17.5932 ,  -2.7771 ],\n",
              "       [ -3.5637 ,  -8.3827 ,  12.393  ,  -1.2823 ],\n",
              "       [ -2.5419 ,  -0.65804,   2.6842 ,   1.1952 ]])"
            ]
          },
          "metadata": {},
          "execution_count": 8
        }
      ],
      "source": [
        "features"
      ]
    },
    {
      "cell_type": "markdown",
      "id": "93db9a19",
      "metadata": {
        "id": "93db9a19"
      },
      "source": [
        "### Train Test Split"
      ]
    },
    {
      "cell_type": "code",
      "execution_count": 9,
      "id": "14a84f11",
      "metadata": {
        "id": "14a84f11"
      },
      "outputs": [],
      "source": [
        "X = features\n",
        "y = labels"
      ]
    },
    {
      "cell_type": "code",
      "execution_count": 10,
      "id": "479e28f0",
      "metadata": {
        "id": "479e28f0"
      },
      "outputs": [],
      "source": [
        "X_train, X_test, y_train, y_test = train_test_split(X, y, test_size=0.33, random_state=42)"
      ]
    },
    {
      "cell_type": "markdown",
      "id": "f8aac912",
      "metadata": {
        "id": "f8aac912"
      },
      "source": [
        "### Standardization"
      ]
    },
    {
      "cell_type": "code",
      "execution_count": 11,
      "id": "28e510fc",
      "metadata": {
        "id": "28e510fc"
      },
      "outputs": [],
      "source": [
        "scaler_object = MinMaxScaler()"
      ]
    },
    {
      "cell_type": "code",
      "execution_count": 12,
      "id": "132953cd",
      "metadata": {
        "colab": {
          "base_uri": "https://localhost:8080/",
          "height": 75
        },
        "id": "132953cd",
        "outputId": "555f99ce-324d-41ed-c4f0-4d1b98749157"
      },
      "outputs": [
        {
          "output_type": "execute_result",
          "data": {
            "text/plain": [
              "MinMaxScaler()"
            ],
            "text/html": [
              "<style>#sk-container-id-1 {color: black;background-color: white;}#sk-container-id-1 pre{padding: 0;}#sk-container-id-1 div.sk-toggleable {background-color: white;}#sk-container-id-1 label.sk-toggleable__label {cursor: pointer;display: block;width: 100%;margin-bottom: 0;padding: 0.3em;box-sizing: border-box;text-align: center;}#sk-container-id-1 label.sk-toggleable__label-arrow:before {content: \"▸\";float: left;margin-right: 0.25em;color: #696969;}#sk-container-id-1 label.sk-toggleable__label-arrow:hover:before {color: black;}#sk-container-id-1 div.sk-estimator:hover label.sk-toggleable__label-arrow:before {color: black;}#sk-container-id-1 div.sk-toggleable__content {max-height: 0;max-width: 0;overflow: hidden;text-align: left;background-color: #f0f8ff;}#sk-container-id-1 div.sk-toggleable__content pre {margin: 0.2em;color: black;border-radius: 0.25em;background-color: #f0f8ff;}#sk-container-id-1 input.sk-toggleable__control:checked~div.sk-toggleable__content {max-height: 200px;max-width: 100%;overflow: auto;}#sk-container-id-1 input.sk-toggleable__control:checked~label.sk-toggleable__label-arrow:before {content: \"▾\";}#sk-container-id-1 div.sk-estimator input.sk-toggleable__control:checked~label.sk-toggleable__label {background-color: #d4ebff;}#sk-container-id-1 div.sk-label input.sk-toggleable__control:checked~label.sk-toggleable__label {background-color: #d4ebff;}#sk-container-id-1 input.sk-hidden--visually {border: 0;clip: rect(1px 1px 1px 1px);clip: rect(1px, 1px, 1px, 1px);height: 1px;margin: -1px;overflow: hidden;padding: 0;position: absolute;width: 1px;}#sk-container-id-1 div.sk-estimator {font-family: monospace;background-color: #f0f8ff;border: 1px dotted black;border-radius: 0.25em;box-sizing: border-box;margin-bottom: 0.5em;}#sk-container-id-1 div.sk-estimator:hover {background-color: #d4ebff;}#sk-container-id-1 div.sk-parallel-item::after {content: \"\";width: 100%;border-bottom: 1px solid gray;flex-grow: 1;}#sk-container-id-1 div.sk-label:hover label.sk-toggleable__label {background-color: #d4ebff;}#sk-container-id-1 div.sk-serial::before {content: \"\";position: absolute;border-left: 1px solid gray;box-sizing: border-box;top: 0;bottom: 0;left: 50%;z-index: 0;}#sk-container-id-1 div.sk-serial {display: flex;flex-direction: column;align-items: center;background-color: white;padding-right: 0.2em;padding-left: 0.2em;position: relative;}#sk-container-id-1 div.sk-item {position: relative;z-index: 1;}#sk-container-id-1 div.sk-parallel {display: flex;align-items: stretch;justify-content: center;background-color: white;position: relative;}#sk-container-id-1 div.sk-item::before, #sk-container-id-1 div.sk-parallel-item::before {content: \"\";position: absolute;border-left: 1px solid gray;box-sizing: border-box;top: 0;bottom: 0;left: 50%;z-index: -1;}#sk-container-id-1 div.sk-parallel-item {display: flex;flex-direction: column;z-index: 1;position: relative;background-color: white;}#sk-container-id-1 div.sk-parallel-item:first-child::after {align-self: flex-end;width: 50%;}#sk-container-id-1 div.sk-parallel-item:last-child::after {align-self: flex-start;width: 50%;}#sk-container-id-1 div.sk-parallel-item:only-child::after {width: 0;}#sk-container-id-1 div.sk-dashed-wrapped {border: 1px dashed gray;margin: 0 0.4em 0.5em 0.4em;box-sizing: border-box;padding-bottom: 0.4em;background-color: white;}#sk-container-id-1 div.sk-label label {font-family: monospace;font-weight: bold;display: inline-block;line-height: 1.2em;}#sk-container-id-1 div.sk-label-container {text-align: center;}#sk-container-id-1 div.sk-container {/* jupyter's `normalize.less` sets `[hidden] { display: none; }` but bootstrap.min.css set `[hidden] { display: none !important; }` so we also need the `!important` here to be able to override the default hidden behavior on the sphinx rendered scikit-learn.org. See: https://github.com/scikit-learn/scikit-learn/issues/21755 */display: inline-block !important;position: relative;}#sk-container-id-1 div.sk-text-repr-fallback {display: none;}</style><div id=\"sk-container-id-1\" class=\"sk-top-container\"><div class=\"sk-text-repr-fallback\"><pre>MinMaxScaler()</pre><b>In a Jupyter environment, please rerun this cell to show the HTML representation or trust the notebook. <br />On GitHub, the HTML representation is unable to render, please try loading this page with nbviewer.org.</b></div><div class=\"sk-container\" hidden><div class=\"sk-item\"><div class=\"sk-estimator sk-toggleable\"><input class=\"sk-toggleable__control sk-hidden--visually\" id=\"sk-estimator-id-1\" type=\"checkbox\" checked><label for=\"sk-estimator-id-1\" class=\"sk-toggleable__label sk-toggleable__label-arrow\">MinMaxScaler</label><div class=\"sk-toggleable__content\"><pre>MinMaxScaler()</pre></div></div></div></div></div>"
            ]
          },
          "metadata": {},
          "execution_count": 12
        }
      ],
      "source": [
        "scaler_object.fit(X_train)"
      ]
    },
    {
      "cell_type": "code",
      "execution_count": 13,
      "id": "7d43783a",
      "metadata": {
        "id": "7d43783a"
      },
      "outputs": [],
      "source": [
        "scaled_X_train = scaler_object.transform(X_train)"
      ]
    },
    {
      "cell_type": "code",
      "execution_count": 14,
      "id": "8c7a42b7",
      "metadata": {
        "id": "8c7a42b7"
      },
      "outputs": [],
      "source": [
        "scaled_X_test = scaler_object.transform(X_test)"
      ]
    },
    {
      "cell_type": "markdown",
      "source": [
        "### Define Model"
      ],
      "metadata": {
        "id": "6iwHM6gLaj-F"
      },
      "id": "6iwHM6gLaj-F"
    },
    {
      "cell_type": "code",
      "execution_count": 15,
      "id": "833d89d2",
      "metadata": {
        "id": "833d89d2"
      },
      "outputs": [],
      "source": [
        "model = Sequential()"
      ]
    },
    {
      "cell_type": "code",
      "source": [
        "# Input Layer\n",
        "model.add(Dense(4, input_dim=4, activation=\"relu\"))\n",
        "\n",
        "# Hidden Layer\n",
        "model.add(Dense(8, activation=\"relu\"))\n",
        "\n",
        "# Output Layer\n",
        "model.add(Dense(1, activation=\"sigmoid\"))"
      ],
      "metadata": {
        "id": "gsotNcdrarUy"
      },
      "id": "gsotNcdrarUy",
      "execution_count": 16,
      "outputs": []
    },
    {
      "cell_type": "code",
      "source": [
        "model.compile(loss=\"binary_crossentropy\", optimizer=\"adam\", metrics=[\"accuracy\"])"
      ],
      "metadata": {
        "id": "JtxTSNT_eUsw"
      },
      "id": "JtxTSNT_eUsw",
      "execution_count": 21,
      "outputs": []
    },
    {
      "cell_type": "markdown",
      "source": [
        "### Fit Model on Train"
      ],
      "metadata": {
        "id": "ncErg4A6kNaf"
      },
      "id": "ncErg4A6kNaf"
    },
    {
      "cell_type": "code",
      "source": [
        "model.fit(scaled_X_train, y_train, epochs=50, verbose=2)"
      ],
      "metadata": {
        "colab": {
          "base_uri": "https://localhost:8080/"
        },
        "id": "gM6KsTKFeUra",
        "outputId": "b180299c-6a22-4569-bfb4-f3233becb5eb"
      },
      "id": "gM6KsTKFeUra",
      "execution_count": 22,
      "outputs": [
        {
          "output_type": "stream",
          "name": "stdout",
          "text": [
            "Epoch 1/50\n",
            "29/29 - 1s - loss: 0.0620 - accuracy: 0.9717 - 551ms/epoch - 19ms/step\n",
            "Epoch 2/50\n",
            "29/29 - 0s - loss: 0.0602 - accuracy: 0.9771 - 28ms/epoch - 974us/step\n",
            "Epoch 3/50\n",
            "29/29 - 0s - loss: 0.0595 - accuracy: 0.9771 - 31ms/epoch - 1ms/step\n",
            "Epoch 4/50\n",
            "29/29 - 0s - loss: 0.0598 - accuracy: 0.9750 - 28ms/epoch - 977us/step\n",
            "Epoch 5/50\n",
            "29/29 - 0s - loss: 0.0577 - accuracy: 0.9782 - 32ms/epoch - 1ms/step\n",
            "Epoch 6/50\n",
            "29/29 - 0s - loss: 0.0573 - accuracy: 0.9750 - 30ms/epoch - 1ms/step\n",
            "Epoch 7/50\n",
            "29/29 - 0s - loss: 0.0560 - accuracy: 0.9761 - 28ms/epoch - 975us/step\n",
            "Epoch 8/50\n",
            "29/29 - 0s - loss: 0.0564 - accuracy: 0.9761 - 31ms/epoch - 1ms/step\n",
            "Epoch 9/50\n",
            "29/29 - 0s - loss: 0.0552 - accuracy: 0.9804 - 33ms/epoch - 1ms/step\n",
            "Epoch 10/50\n",
            "29/29 - 0s - loss: 0.0541 - accuracy: 0.9793 - 36ms/epoch - 1ms/step\n",
            "Epoch 11/50\n",
            "29/29 - 0s - loss: 0.0537 - accuracy: 0.9782 - 32ms/epoch - 1ms/step\n",
            "Epoch 12/50\n",
            "29/29 - 0s - loss: 0.0536 - accuracy: 0.9804 - 38ms/epoch - 1ms/step\n",
            "Epoch 13/50\n",
            "29/29 - 0s - loss: 0.0523 - accuracy: 0.9782 - 30ms/epoch - 1ms/step\n",
            "Epoch 14/50\n",
            "29/29 - 0s - loss: 0.0518 - accuracy: 0.9793 - 32ms/epoch - 1ms/step\n",
            "Epoch 15/50\n",
            "29/29 - 0s - loss: 0.0524 - accuracy: 0.9793 - 30ms/epoch - 1ms/step\n",
            "Epoch 16/50\n",
            "29/29 - 0s - loss: 0.0503 - accuracy: 0.9793 - 28ms/epoch - 973us/step\n",
            "Epoch 17/50\n",
            "29/29 - 0s - loss: 0.0500 - accuracy: 0.9782 - 34ms/epoch - 1ms/step\n",
            "Epoch 18/50\n",
            "29/29 - 0s - loss: 0.0494 - accuracy: 0.9782 - 38ms/epoch - 1ms/step\n",
            "Epoch 19/50\n",
            "29/29 - 0s - loss: 0.0493 - accuracy: 0.9793 - 31ms/epoch - 1ms/step\n",
            "Epoch 20/50\n",
            "29/29 - 0s - loss: 0.0497 - accuracy: 0.9793 - 29ms/epoch - 999us/step\n",
            "Epoch 21/50\n",
            "29/29 - 0s - loss: 0.0483 - accuracy: 0.9782 - 28ms/epoch - 972us/step\n",
            "Epoch 22/50\n",
            "29/29 - 0s - loss: 0.0472 - accuracy: 0.9804 - 29ms/epoch - 994us/step\n",
            "Epoch 23/50\n",
            "29/29 - 0s - loss: 0.0469 - accuracy: 0.9782 - 28ms/epoch - 973us/step\n",
            "Epoch 24/50\n",
            "29/29 - 0s - loss: 0.0473 - accuracy: 0.9782 - 28ms/epoch - 974us/step\n",
            "Epoch 25/50\n",
            "29/29 - 0s - loss: 0.0458 - accuracy: 0.9804 - 28ms/epoch - 974us/step\n",
            "Epoch 26/50\n",
            "29/29 - 0s - loss: 0.0464 - accuracy: 0.9804 - 28ms/epoch - 974us/step\n",
            "Epoch 27/50\n",
            "29/29 - 0s - loss: 0.0461 - accuracy: 0.9782 - 29ms/epoch - 1ms/step\n",
            "Epoch 28/50\n",
            "29/29 - 0s - loss: 0.0446 - accuracy: 0.9793 - 32ms/epoch - 1ms/step\n",
            "Epoch 29/50\n",
            "29/29 - 0s - loss: 0.0452 - accuracy: 0.9782 - 28ms/epoch - 964us/step\n",
            "Epoch 30/50\n",
            "29/29 - 0s - loss: 0.0442 - accuracy: 0.9826 - 29ms/epoch - 1ms/step\n",
            "Epoch 31/50\n",
            "29/29 - 0s - loss: 0.0434 - accuracy: 0.9837 - 30ms/epoch - 1ms/step\n",
            "Epoch 32/50\n",
            "29/29 - 0s - loss: 0.0441 - accuracy: 0.9782 - 30ms/epoch - 1ms/step\n",
            "Epoch 33/50\n",
            "29/29 - 0s - loss: 0.0426 - accuracy: 0.9815 - 32ms/epoch - 1ms/step\n",
            "Epoch 34/50\n",
            "29/29 - 0s - loss: 0.0424 - accuracy: 0.9804 - 32ms/epoch - 1ms/step\n",
            "Epoch 35/50\n",
            "29/29 - 0s - loss: 0.0421 - accuracy: 0.9782 - 33ms/epoch - 1ms/step\n",
            "Epoch 36/50\n",
            "29/29 - 0s - loss: 0.0423 - accuracy: 0.9804 - 29ms/epoch - 994us/step\n",
            "Epoch 37/50\n",
            "29/29 - 0s - loss: 0.0414 - accuracy: 0.9815 - 35ms/epoch - 1ms/step\n",
            "Epoch 38/50\n",
            "29/29 - 0s - loss: 0.0413 - accuracy: 0.9815 - 29ms/epoch - 998us/step\n",
            "Epoch 39/50\n",
            "29/29 - 0s - loss: 0.0415 - accuracy: 0.9804 - 32ms/epoch - 1ms/step\n",
            "Epoch 40/50\n",
            "29/29 - 0s - loss: 0.0405 - accuracy: 0.9815 - 35ms/epoch - 1ms/step\n",
            "Epoch 41/50\n",
            "29/29 - 0s - loss: 0.0402 - accuracy: 0.9815 - 28ms/epoch - 972us/step\n",
            "Epoch 42/50\n",
            "29/29 - 0s - loss: 0.0402 - accuracy: 0.9815 - 29ms/epoch - 1ms/step\n",
            "Epoch 43/50\n",
            "29/29 - 0s - loss: 0.0414 - accuracy: 0.9826 - 30ms/epoch - 1ms/step\n",
            "Epoch 44/50\n",
            "29/29 - 0s - loss: 0.0391 - accuracy: 0.9826 - 30ms/epoch - 1ms/step\n",
            "Epoch 45/50\n",
            "29/29 - 0s - loss: 0.0393 - accuracy: 0.9826 - 30ms/epoch - 1ms/step\n",
            "Epoch 46/50\n",
            "29/29 - 0s - loss: 0.0394 - accuracy: 0.9771 - 30ms/epoch - 1ms/step\n",
            "Epoch 47/50\n",
            "29/29 - 0s - loss: 0.0386 - accuracy: 0.9815 - 29ms/epoch - 983us/step\n",
            "Epoch 48/50\n",
            "29/29 - 0s - loss: 0.0383 - accuracy: 0.9826 - 30ms/epoch - 1ms/step\n",
            "Epoch 49/50\n",
            "29/29 - 0s - loss: 0.0387 - accuracy: 0.9826 - 28ms/epoch - 973us/step\n",
            "Epoch 50/50\n",
            "29/29 - 0s - loss: 0.0392 - accuracy: 0.9837 - 28ms/epoch - 979us/step\n"
          ]
        },
        {
          "output_type": "execute_result",
          "data": {
            "text/plain": [
              "<keras.callbacks.History at 0x7f92fef2d990>"
            ]
          },
          "metadata": {},
          "execution_count": 22
        }
      ]
    },
    {
      "cell_type": "markdown",
      "source": [
        "### Test Prediction"
      ],
      "metadata": {
        "id": "sg8ey5bAkbL1"
      },
      "id": "sg8ey5bAkbL1"
    },
    {
      "cell_type": "code",
      "source": [
        "# np.where(y_pred > threshold, 1,0)"
      ],
      "metadata": {
        "id": "Z4hbraSSkBUH"
      },
      "id": "Z4hbraSSkBUH",
      "execution_count": 27,
      "outputs": []
    },
    {
      "cell_type": "code",
      "source": [
        "model.metrics_names"
      ],
      "metadata": {
        "id": "iTujuVc9maOu",
        "outputId": "822b4c0c-09bd-4c93-cb9e-fa81a0801504",
        "colab": {
          "base_uri": "https://localhost:8080/"
        }
      },
      "id": "iTujuVc9maOu",
      "execution_count": 28,
      "outputs": [
        {
          "output_type": "execute_result",
          "data": {
            "text/plain": [
              "['loss', 'accuracy']"
            ]
          },
          "metadata": {},
          "execution_count": 28
        }
      ]
    },
    {
      "cell_type": "markdown",
      "source": [
        "### Evaluation"
      ],
      "metadata": {
        "id": "ZnFURp4Bmlv1"
      },
      "id": "ZnFURp4Bmlv1"
    },
    {
      "cell_type": "code",
      "source": [
        "model.metrics_names"
      ],
      "metadata": {
        "id": "GX2sG97GmoOF",
        "outputId": "96e14ee4-028d-44c5-e225-1dab68a52155",
        "colab": {
          "base_uri": "https://localhost:8080/"
        }
      },
      "id": "GX2sG97GmoOF",
      "execution_count": 29,
      "outputs": [
        {
          "output_type": "execute_result",
          "data": {
            "text/plain": [
              "['loss', 'accuracy']"
            ]
          },
          "metadata": {},
          "execution_count": 29
        }
      ]
    },
    {
      "cell_type": "code",
      "source": [
        "predictions = model.predict(scaled_X_test)"
      ],
      "metadata": {
        "id": "EkLiEi39msrg",
        "outputId": "8367fa63-e2ce-4728-d5df-94c85909dd29",
        "colab": {
          "base_uri": "https://localhost:8080/"
        }
      },
      "id": "EkLiEi39msrg",
      "execution_count": 32,
      "outputs": [
        {
          "output_type": "stream",
          "name": "stdout",
          "text": [
            "15/15 [==============================] - 0s 1ms/step\n"
          ]
        }
      ]
    },
    {
      "cell_type": "code",
      "source": [
        "predictions = np.where(predictions > 0.5, 1, 0)"
      ],
      "metadata": {
        "id": "p6QpASfUnUJG"
      },
      "id": "p6QpASfUnUJG",
      "execution_count": 33,
      "outputs": []
    },
    {
      "cell_type": "code",
      "source": [
        "confusion_matrix(y_test, predictions)"
      ],
      "metadata": {
        "id": "nfPT1Qafneok",
        "outputId": "62cea81d-056a-4160-b7f4-aaeace17f756",
        "colab": {
          "base_uri": "https://localhost:8080/"
        }
      },
      "id": "nfPT1Qafneok",
      "execution_count": 34,
      "outputs": [
        {
          "output_type": "execute_result",
          "data": {
            "text/plain": [
              "array([[253,   4],\n",
              "       [  2, 194]])"
            ]
          },
          "metadata": {},
          "execution_count": 34
        }
      ]
    },
    {
      "cell_type": "code",
      "source": [
        "print(classification_report(y_test, predictions))"
      ],
      "metadata": {
        "id": "bdHRmu0jnsRM",
        "outputId": "c862d2a4-c7ea-42f4-d4c8-c3735dc28eeb",
        "colab": {
          "base_uri": "https://localhost:8080/"
        }
      },
      "id": "bdHRmu0jnsRM",
      "execution_count": 35,
      "outputs": [
        {
          "output_type": "stream",
          "name": "stdout",
          "text": [
            "              precision    recall  f1-score   support\n",
            "\n",
            "         0.0       0.99      0.98      0.99       257\n",
            "         1.0       0.98      0.99      0.98       196\n",
            "\n",
            "    accuracy                           0.99       453\n",
            "   macro avg       0.99      0.99      0.99       453\n",
            "weighted avg       0.99      0.99      0.99       453\n",
            "\n"
          ]
        }
      ]
    },
    {
      "cell_type": "markdown",
      "source": [
        "### Save Model"
      ],
      "metadata": {
        "id": "wTHOfh_0oHNn"
      },
      "id": "wTHOfh_0oHNn"
    },
    {
      "cell_type": "code",
      "source": [
        "model.save(\"model.h5\")"
      ],
      "metadata": {
        "id": "tz4IQMA5oF4U"
      },
      "id": "tz4IQMA5oF4U",
      "execution_count": 36,
      "outputs": []
    },
    {
      "cell_type": "markdown",
      "source": [
        "### Load Model"
      ],
      "metadata": {
        "id": "AJWXEKosortM"
      },
      "id": "AJWXEKosortM"
    },
    {
      "cell_type": "code",
      "source": [
        "model = load_model(\"model.h5\")"
      ],
      "metadata": {
        "id": "us_-XBqHotaO"
      },
      "id": "us_-XBqHotaO",
      "execution_count": 38,
      "outputs": []
    },
    {
      "cell_type": "code",
      "source": [],
      "metadata": {
        "id": "r28pd2RWoTu7"
      },
      "id": "r28pd2RWoTu7",
      "execution_count": null,
      "outputs": []
    }
  ],
  "metadata": {
    "kernelspec": {
      "display_name": "Python 3 (ipykernel)",
      "language": "python",
      "name": "python3"
    },
    "language_info": {
      "codemirror_mode": {
        "name": "ipython",
        "version": 3
      },
      "file_extension": ".py",
      "mimetype": "text/x-python",
      "name": "python",
      "nbconvert_exporter": "python",
      "pygments_lexer": "ipython3",
      "version": "3.9.12"
    },
    "colab": {
      "provenance": []
    }
  },
  "nbformat": 4,
  "nbformat_minor": 5
}