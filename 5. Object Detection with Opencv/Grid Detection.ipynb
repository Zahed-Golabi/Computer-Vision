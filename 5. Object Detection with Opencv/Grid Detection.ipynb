{
 "cells": [
  {
   "cell_type": "markdown",
   "id": "7ca64d7c",
   "metadata": {},
   "source": [
    "# Grid Detection"
   ]
  },
  {
   "cell_type": "markdown",
   "id": "d65a8295",
   "metadata": {},
   "source": [
    "+ Often cameras can create a distortion in an image, such as radial distortion and tangential distortion\n",
    "+ A good way to account for these distortions when performing operations like object tracking is to have a recognizable pattern attached to the object being tracked.\n",
    "+ Grid patterns are often use to calibrate cameras and track motion"
   ]
  },
  {
   "cell_type": "code",
   "execution_count": 1,
   "id": "a5704e6b",
   "metadata": {},
   "outputs": [],
   "source": [
    "import cv2 \n",
    "import numpy as np\n",
    "import matplotlib.pyplot as plt\n",
    "%matplotlib inline"
   ]
  },
  {
   "cell_type": "code",
   "execution_count": 2,
   "id": "69e7560c",
   "metadata": {},
   "outputs": [],
   "source": [
    "flat_chess = cv2.imread(\"../imgs/flat_chessboard.png\")"
   ]
  },
  {
   "cell_type": "code",
   "execution_count": 3,
   "id": "4057e85a",
   "metadata": {},
   "outputs": [
    {
     "data": {
      "text/plain": [
       "<matplotlib.image.AxesImage at 0x24a800a83a0>"
      ]
     },
     "execution_count": 3,
     "metadata": {},
     "output_type": "execute_result"
    },
    {
     "data": {
      "image/png": "[encoded data removed]",
      "text/plain": [
       "<Figure size 432x288 with 1 Axes>"
      ]
     },
     "metadata": {
      "needs_background": "light"
     },
     "output_type": "display_data"
    }
   ],
   "source": [
    "plt.imshow(flat_chess)"
   ]
  },
  {
   "cell_type": "code",
   "execution_count": 4,
   "id": "b028fb4f",
   "metadata": {},
   "outputs": [],
   "source": [
    "found,corners = cv2.findChessboardCorners(flat_chess, (7,7))"
   ]
  },
  {
   "cell_type": "code",
   "execution_count": 5,
   "id": "4afca75a",
   "metadata": {},
   "outputs": [
    {
     "name": "stdout",
     "output_type": "stream",
     "text": [
      "True\n"
     ]
    }
   ],
   "source": [
    "print(found)"
   ]
  },
  {
   "cell_type": "code",
   "execution_count": 7,
   "id": "c0728268",
   "metadata": {},
   "outputs": [
    {
     "data": {
      "text/plain": [
       "(49, 1, 2)"
      ]
     },
     "execution_count": 7,
     "metadata": {},
     "output_type": "execute_result"
    }
   ],
   "source": [
    "corners.shape"
   ]
  },
  {
   "cell_type": "code",
   "execution_count": 8,
   "id": "cc8fc8c7",
   "metadata": {},
   "outputs": [
    {
     "data": {
      "text/plain": [
       "array([[[158, 206, 255],\n",
       "        [158, 206, 255],\n",
       "        [158, 206, 255],\n",
       "        ...,\n",
       "        [ 71, 139, 209],\n",
       "        [ 71, 139, 209],\n",
       "        [ 71, 139, 209]],\n",
       "\n",
       "       [[158, 206, 255],\n",
       "        [158, 206, 255],\n",
       "        [158, 206, 255],\n",
       "        ...,\n",
       "        [ 71, 139, 209],\n",
       "        [ 71, 139, 209],\n",
       "        [ 71, 139, 209]],\n",
       "\n",
       "       [[158, 206, 255],\n",
       "        [158, 206, 255],\n",
       "        [158, 206, 255],\n",
       "        ...,\n",
       "        [ 71, 139, 209],\n",
       "        [ 71, 139, 209],\n",
       "        [ 71, 139, 209]],\n",
       "\n",
       "       ...,\n",
       "\n",
       "       [[ 71, 139, 209],\n",
       "        [ 71, 139, 209],\n",
       "        [ 71, 139, 209],\n",
       "        ...,\n",
       "        [158, 206, 255],\n",
       "        [158, 206, 255],\n",
       "        [158, 206, 255]],\n",
       "\n",
       "       [[ 71, 139, 209],\n",
       "        [ 71, 139, 209],\n",
       "        [ 71, 139, 209],\n",
       "        ...,\n",
       "        [158, 206, 255],\n",
       "        [158, 206, 255],\n",
       "        [158, 206, 255]],\n",
       "\n",
       "       [[ 71, 139, 209],\n",
       "        [ 71, 139, 209],\n",
       "        [ 71, 139, 209],\n",
       "        ...,\n",
       "        [158, 206, 255],\n",
       "        [158, 206, 255],\n",
       "        [158, 206, 255]]], dtype=uint8)"
      ]
     },
     "execution_count": 8,
     "metadata": {},
     "output_type": "execute_result"
    }
   ],
   "source": [
    "cv2.drawChessboardCorners(flat_chess, (7,7), corners, found)"
   ]
  },
  {
   "cell_type": "code",
   "execution_count": 9,
   "id": "dd942e1e",
   "metadata": {},
   "outputs": [
    {
     "data": {
      "text/plain": [
       "<matplotlib.image.AxesImage at 0x24a80767550>"
      ]
     },
     "execution_count": 9,
     "metadata": {},
     "output_type": "execute_result"
    },
    {
     "data": {
      "image/png": "[encoded data removed]",
      "text/plain": [
       "<Figure size 432x288 with 1 Axes>"
      ]
     },
     "metadata": {
      "needs_background": "light"
     },
     "output_type": "display_data"
    }
   ],
   "source": [
    "plt.imshow(flat_chess)"
   ]
  },
  {
   "cell_type": "code",
   "execution_count": null,
   "id": "dbbb3788",
   "metadata": {},
   "outputs": [],
   "source": []
  }
 ],
 "metadata": {
  "kernelspec": {
   "display_name": "Python 3 (ipykernel)",
   "language": "python",
   "name": "python3"
  },
  "language_info": {
   "codemirror_mode": {
    "name": "ipython",
    "version": 3
   },
   "file_extension": ".py",
   "mimetype": "text/x-python",
   "name": "python",
   "nbconvert_exporter": "python",
   "pygments_lexer": "ipython3",
   "version": "3.9.12"
  }
 },
 "nbformat": 4,
 "nbformat_minor": 5
}
