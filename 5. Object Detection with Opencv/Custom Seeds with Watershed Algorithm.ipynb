{
 "cells": [
  {
   "cell_type": "markdown",
   "id": "22205fab",
   "metadata": {},
   "source": [
    "# Custom Seeds with Watershed Algorithm"
   ]
  },
  {
   "cell_type": "code",
   "execution_count": 1,
   "id": "3e2c58ae",
   "metadata": {},
   "outputs": [],
   "source": [
    "import cv2\n",
    "import numpy as np\n",
    "import matplotlib.pyplot as plt\n",
    "%matplotlib inline"
   ]
  },
  {
   "cell_type": "code",
   "execution_count": 2,
   "id": "0c6b69a6",
   "metadata": {},
   "outputs": [],
   "source": [
    "road = cv2.imread(\"../imgs/road_image.jpg\")"
   ]
  },
  {
   "cell_type": "code",
   "execution_count": 3,
   "id": "46ade663",
   "metadata": {},
   "outputs": [],
   "source": [
    "road_copy = np.copy(road)"
   ]
  },
  {
   "cell_type": "code",
   "execution_count": 4,
   "id": "8e8927aa",
   "metadata": {},
   "outputs": [
    {
     "data": {
      "text/plain": [
       "(600, 800, 3)"
      ]
     },
     "execution_count": 4,
     "metadata": {},
     "output_type": "execute_result"
    }
   ],
   "source": [
    "road.shape"
   ]
  },
  {
   "cell_type": "code",
   "execution_count": 5,
   "id": "03f7b993",
   "metadata": {},
   "outputs": [
    {
     "data": {
      "text/plain": [
       "(600, 800)"
      ]
     },
     "execution_count": 5,
     "metadata": {},
     "output_type": "execute_result"
    }
   ],
   "source": [
    "road.shape[0:2]"
   ]
  },
  {
   "cell_type": "code",
   "execution_count": 6,
   "id": "7c3cc9bd",
   "metadata": {},
   "outputs": [],
   "source": [
    "marker_image = np.zeros(shape=road.shape[0:2], dtype=np.int32)"
   ]
  },
  {
   "cell_type": "code",
   "execution_count": 7,
   "id": "e7ea2a60",
   "metadata": {},
   "outputs": [
    {
     "data": {
      "text/plain": [
       "(600, 800)"
      ]
     },
     "execution_count": 7,
     "metadata": {},
     "output_type": "execute_result"
    }
   ],
   "source": [
    "marker_image.shape"
   ]
  },
  {
   "cell_type": "code",
   "execution_count": 8,
   "id": "4905c7f4",
   "metadata": {},
   "outputs": [],
   "source": [
    "segments = np.zeros(road.shape,dtype=np.uint8)"
   ]
  },
  {
   "cell_type": "code",
   "execution_count": 9,
   "id": "79e1efc8",
   "metadata": {},
   "outputs": [
    {
     "data": {
      "text/plain": [
       "(600, 800, 3)"
      ]
     },
     "execution_count": 9,
     "metadata": {},
     "output_type": "execute_result"
    }
   ],
   "source": [
    "segments.shape"
   ]
  },
  {
   "cell_type": "markdown",
   "id": "5ad81b9e",
   "metadata": {},
   "source": [
    "#### Choosing Color Mapping"
   ]
  },
  {
   "cell_type": "code",
   "execution_count": 10,
   "id": "07640792",
   "metadata": {},
   "outputs": [],
   "source": [
    "from matplotlib import cm"
   ]
  },
  {
   "cell_type": "code",
   "execution_count": 11,
   "id": "999b0719",
   "metadata": {},
   "outputs": [
    {
     "data": {
      "text/plain": [
       "(0.12156862745098039, 0.4666666666666667, 0.7058823529411765, 1.0)"
      ]
     },
     "execution_count": 11,
     "metadata": {},
     "output_type": "execute_result"
    }
   ],
   "source": [
    "cm.tab10(0)"
   ]
  },
  {
   "cell_type": "code",
   "execution_count": 12,
   "id": "f306ba82",
   "metadata": {},
   "outputs": [
    {
     "data": {
      "text/plain": [
       "array([ 31., 119., 180.])"
      ]
     },
     "execution_count": 12,
     "metadata": {},
     "output_type": "execute_result"
    }
   ],
   "source": [
    "np.array(cm.tab10(0)[:3])*255"
   ]
  },
  {
   "cell_type": "code",
   "execution_count": 13,
   "id": "d72a0b10",
   "metadata": {},
   "outputs": [
    {
     "data": {
      "text/plain": [
       "(31.0, 119.0, 180.0)"
      ]
     },
     "execution_count": 13,
     "metadata": {},
     "output_type": "execute_result"
    }
   ],
   "source": [
    "tuple(np.array(cm.tab10(0)[0:3])*255)"
   ]
  },
  {
   "cell_type": "code",
   "execution_count": 14,
   "id": "aba0ce5e",
   "metadata": {},
   "outputs": [],
   "source": [
    "def create_rgb(i):\n",
    "    return tuple(np.array(cm.tab10(i)[0:3])*255)"
   ]
  },
  {
   "cell_type": "code",
   "execution_count": 15,
   "id": "e08506d4",
   "metadata": {},
   "outputs": [],
   "source": [
    "colors = []\n",
    "\n",
    "for i in range(10):\n",
    "    colors.append(create_rgb(i))"
   ]
  },
  {
   "cell_type": "code",
   "execution_count": 16,
   "id": "85d49483",
   "metadata": {},
   "outputs": [
    {
     "data": {
      "text/plain": [
       "[(31.0, 119.0, 180.0),\n",
       " (255.0, 127.0, 14.0),\n",
       " (44.0, 160.0, 44.0),\n",
       " (214.0, 39.0, 40.0),\n",
       " (148.0, 103.0, 189.0),\n",
       " (140.0, 86.0, 75.0),\n",
       " (227.0, 119.0, 194.0),\n",
       " (127.0, 127.0, 127.0),\n",
       " (188.0, 189.0, 34.0),\n",
       " (23.0, 190.0, 207.0)]"
      ]
     },
     "execution_count": 16,
     "metadata": {},
     "output_type": "execute_result"
    }
   ],
   "source": [
    "colors"
   ]
  },
  {
   "cell_type": "markdown",
   "id": "1b1692db",
   "metadata": {},
   "source": [
    "#### Creating Mouse Callback"
   ]
  },
  {
   "cell_type": "code",
   "execution_count": 17,
   "id": "b2d38382",
   "metadata": {},
   "outputs": [],
   "source": [
    "# Numbers 0-9\n",
    "n_markers = 10"
   ]
  },
  {
   "cell_type": "code",
   "execution_count": 18,
   "id": "fdf19d4d",
   "metadata": {},
   "outputs": [],
   "source": [
    "# Default settings\n",
    "current_marker = 1\n",
    "marks_updated = False"
   ]
  },
  {
   "cell_type": "code",
   "execution_count": 19,
   "id": "067d3095",
   "metadata": {},
   "outputs": [],
   "source": [
    "def mouse_callback(event, x, y, flags, param):\n",
    "    global marks_updated \n",
    "\n",
    "    if event == cv2.EVENT_LBUTTONDOWN:\n",
    "        \n",
    "        # TRACKING FOR MARKERS\n",
    "        cv2.circle(marker_image, (x, y), 10, (current_marker), -1)\n",
    "        \n",
    "        # DISPLAY ON USER IMAGE\n",
    "        cv2.circle(road_copy, (x, y), 10, colors[current_marker], -1)\n",
    "        marks_updated = True\n"
   ]
  },
  {
   "cell_type": "code",
   "execution_count": 20,
   "id": "3425f9e4",
   "metadata": {},
   "outputs": [],
   "source": [
    "# Loop\n",
    "cv2.namedWindow(\"Road Image\")\n",
    "cv2.setMouseCallback(\"Road Image\", mouse_callback)\n",
    "\n",
    "while True:\n",
    "    \n",
    "    cv2.imshow(\"Watershed Segments\", segments)\n",
    "    cv2.imshow(\"Road Image\", road_copy)\n",
    "    \n",
    "    \n",
    "    k = cv2.waitKey(1)\n",
    "    \n",
    "    if k == 27:\n",
    "        break\n",
    "        \n",
    "    # CLEARING ALL THE COLORS PRESS C KES\n",
    "    elif k == ord(\"c\"):\n",
    "        road_copy = road.copy()\n",
    "        marker_image = np.zeros(road.shape[0:2],dtype=np.int32)\n",
    "        segments = np.zeros(road.shape,dtype=np.uint8)\n",
    "        \n",
    "    # UPDATE COLOR CHOICE\n",
    "    elif k > 0 and chr(k).isdigit():\n",
    "        current_marker = int(chr(k))\n",
    "        \n",
    "    \n",
    "    # UPDATE THE MARKINGS\n",
    "    if marks_updated:\n",
    "        \n",
    "        marker_image_copy = marker_image.copy()\n",
    "        cv2.watershed(road,marker_image_copy)\n",
    "        \n",
    "        segments = np.zeros(road.shape,dtype=np.uint8)\n",
    "        \n",
    "        for color_ind in range(n_markers):\n",
    "            segments[marker_image_copy==(color_ind)] = colors[color_ind]\n",
    "        \n",
    "        \n",
    "        \n",
    "cv2.destroyAllWindows()"
   ]
  },
  {
   "cell_type": "code",
   "execution_count": null,
   "id": "db128c8e",
   "metadata": {},
   "outputs": [],
   "source": []
  }
 ],
 "metadata": {
  "kernelspec": {
   "display_name": "Python 3 (ipykernel)",
   "language": "python",
   "name": "python3"
  },
  "language_info": {
   "codemirror_mode": {
    "name": "ipython",
    "version": 3
   },
   "file_extension": ".py",
   "mimetype": "text/x-python",
   "name": "python",
   "nbconvert_exporter": "python",
   "pygments_lexer": "ipython3",
   "version": "3.9.12"
  }
 },
 "nbformat": 4,
 "nbformat_minor": 5
}
