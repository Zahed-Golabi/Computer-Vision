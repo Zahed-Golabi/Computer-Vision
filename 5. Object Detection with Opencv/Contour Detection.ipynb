{
 "cells": [
  {
   "cell_type": "markdown",
   "id": "534f0668",
   "metadata": {},
   "source": [
    "# Contour Detection"
   ]
  },
  {
   "cell_type": "markdown",
   "id": "c1a21ab7",
   "metadata": {},
   "source": [
    "+ Contours are defined as simply a curve joining all the continuous points (along the boundary), having same color or intensity\n",
    "+ Contours are a useful tool for shape analysis and object detection and recognition"
   ]
  },
  {
   "cell_type": "markdown",
   "id": "3d5e3658",
   "metadata": {},
   "source": [
    "- OpenCV has a built in Contour finder detection that can also helps us differentiate between internal and external contours"
   ]
  },
  {
   "cell_type": "code",
   "execution_count": 1,
   "id": "14ad2355",
   "metadata": {},
   "outputs": [],
   "source": [
    "import cv2\n",
    "import numpy as np\n",
    "import matplotlib.pyplot as plt\n",
    "%matplotlib inline"
   ]
  },
  {
   "cell_type": "code",
   "execution_count": 2,
   "id": "11deeb98",
   "metadata": {},
   "outputs": [],
   "source": [
    "img = cv2.imread(\"../imgs/internal_external.png\", 0)"
   ]
  },
  {
   "cell_type": "code",
   "execution_count": 3,
   "id": "5e2b09b9",
   "metadata": {},
   "outputs": [
    {
     "data": {
      "text/plain": [
       "(652, 1080)"
      ]
     },
     "execution_count": 3,
     "metadata": {},
     "output_type": "execute_result"
    }
   ],
   "source": [
    "img.shape"
   ]
  },
  {
   "cell_type": "code",
   "execution_count": 5,
   "id": "2e6ef67d",
   "metadata": {},
   "outputs": [
    {
     "data": {
      "text/plain": [
       "<matplotlib.image.AxesImage at 0x26c68bb0d00>"
      ]
     },
     "execution_count": 5,
     "metadata": {},
     "output_type": "execute_result"
    },
    {
     "data": {
      "image/png": "[encoded data removed]",
      "text/plain": [
       "<Figure size 432x288 with 1 Axes>"
      ]
     },
     "metadata": {
      "needs_background": "light"
     },
     "output_type": "display_data"
    }
   ],
   "source": [
    "plt.imshow(img, cmap=\"gray\")"
   ]
  },
  {
   "cell_type": "code",
   "execution_count": null,
   "id": "4f9267f4",
   "metadata": {},
   "outputs": [],
   "source": []
  },
  {
   "cell_type": "code",
   "execution_count": null,
   "id": "f0d39be7",
   "metadata": {},
   "outputs": [],
   "source": []
  },
  {
   "cell_type": "code",
   "execution_count": null,
   "id": "8555b916",
   "metadata": {},
   "outputs": [],
   "source": []
  },
  {
   "cell_type": "code",
   "execution_count": null,
   "id": "7d145d03",
   "metadata": {},
   "outputs": [],
   "source": []
  },
  {
   "cell_type": "code",
   "execution_count": null,
   "id": "50537e17",
   "metadata": {},
   "outputs": [],
   "source": []
  },
  {
   "cell_type": "code",
   "execution_count": null,
   "id": "423232c4",
   "metadata": {},
   "outputs": [],
   "source": []
  },
  {
   "cell_type": "code",
   "execution_count": null,
   "id": "55bb4a40",
   "metadata": {},
   "outputs": [],
   "source": []
  }
 ],
 "metadata": {
  "kernelspec": {
   "display_name": "Python 3 (ipykernel)",
   "language": "python",
   "name": "python3"
  },
  "language_info": {
   "codemirror_mode": {
    "name": "ipython",
    "version": 3
   },
   "file_extension": ".py",
   "mimetype": "text/x-python",
   "name": "python",
   "nbconvert_exporter": "python",
   "pygments_lexer": "ipython3",
   "version": "3.9.12"
  }
 },
 "nbformat": 4,
 "nbformat_minor": 5
}
