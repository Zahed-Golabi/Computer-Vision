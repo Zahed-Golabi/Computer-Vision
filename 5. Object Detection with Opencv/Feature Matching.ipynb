{
 "cells": [
  {
   "cell_type": "markdown",
   "id": "306ff52f",
   "metadata": {},
   "source": [
    "# Feature Matching"
   ]
  },
  {
   "cell_type": "markdown",
   "id": "7e302381",
   "metadata": {},
   "source": [
    "+ Template matching requires an exact copy of the image to find"
   ]
  },
  {
   "cell_type": "markdown",
   "id": "98caaa54",
   "metadata": {},
   "source": [
    "+ Feature matching extracts defining key features from an input image (using ideas from corner, edge, and contour detection).\n",
    "+ Then using a distance calculation, finds all the matches in a secondary image\n",
    "+ This means we are no longer required to have an exact copy of the target image"
   ]
  },
  {
   "cell_type": "markdown",
   "id": "b891fafd",
   "metadata": {},
   "source": [
    "### Three main methods\n",
    "- Brute-Force Matching with ORB Descriptors\n",
    "- Brute-Force Matching with SIFT\n",
    "- FLANN based Matcher"
   ]
  },
  {
   "cell_type": "code",
   "execution_count": 2,
   "id": "fb9ee762",
   "metadata": {},
   "outputs": [],
   "source": [
    "import cv2\n",
    "import numpy as np\n",
    "import matplotlib.pyplot as plt\n",
    "%matplotlib inline"
   ]
  },
  {
   "cell_type": "code",
   "execution_count": 3,
   "id": "7243e4ec",
   "metadata": {},
   "outputs": [],
   "source": [
    "def display(img,cmap=\"gray\"):\n",
    "    fig = plt.figure(figsize=(12,10))\n",
    "    ax = fig.add_subplot(111)\n",
    "    ax.imshow(img,cmap=cmap)"
   ]
  },
  {
   "cell_type": "code",
   "execution_count": null,
   "id": "0a57c94d",
   "metadata": {},
   "outputs": [],
   "source": [
    "reeses = cv2.imread(\"../imgs/re\")"
   ]
  },
  {
   "cell_type": "code",
   "execution_count": null,
   "id": "0cb61f0c",
   "metadata": {},
   "outputs": [],
   "source": []
  },
  {
   "cell_type": "code",
   "execution_count": null,
   "id": "6721ce41",
   "metadata": {},
   "outputs": [],
   "source": []
  },
  {
   "cell_type": "code",
   "execution_count": null,
   "id": "0fad1687",
   "metadata": {},
   "outputs": [],
   "source": []
  },
  {
   "cell_type": "code",
   "execution_count": null,
   "id": "383ec6a7",
   "metadata": {},
   "outputs": [],
   "source": []
  },
  {
   "cell_type": "code",
   "execution_count": null,
   "id": "c553bf85",
   "metadata": {},
   "outputs": [],
   "source": []
  }
 ],
 "metadata": {
  "kernelspec": {
   "display_name": "Python 3 (ipykernel)",
   "language": "python",
   "name": "python3"
  },
  "language_info": {
   "codemirror_mode": {
    "name": "ipython",
    "version": 3
   },
   "file_extension": ".py",
   "mimetype": "text/x-python",
   "name": "python",
   "nbconvert_exporter": "python",
   "pygments_lexer": "ipython3",
   "version": "3.9.12"
  }
 },
 "nbformat": 4,
 "nbformat_minor": 5
}
