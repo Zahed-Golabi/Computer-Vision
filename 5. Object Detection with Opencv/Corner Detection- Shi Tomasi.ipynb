{
 "cells": [
  {
   "cell_type": "markdown",
   "id": "fa65c4ec",
   "metadata": {},
   "source": [
    "# Corner Detection- Shi Tomasi"
   ]
  },
  {
   "cell_type": "code",
   "execution_count": 1,
   "id": "3d53ecc7",
   "metadata": {},
   "outputs": [],
   "source": [
    "import cv2\n",
    "import numpy as np\n",
    "import matplotlib.pyplot as plt"
   ]
  },
  {
   "cell_type": "code",
   "execution_count": 2,
   "id": "e2b266e8",
   "metadata": {},
   "outputs": [],
   "source": [
    "real_chess = cv2.imread(\"../imgs/real_chessboard.jpg\")\n",
    "real_chess = cv2.cvtColor(real_chess, cv2.COLOR_BGR2RGB)\n",
    "\n",
    "flat_chess = cv2.imread(\"../imgs/flat_chessboard.png\")\n",
    "flat_chess = cv2.cvtColor(flat_chess, cv2.COLOR_BGR2RGB)\n",
    "\n",
    "gray_flat_chess = cv2.cvtColor(flat_chess, cv2.COLOR_BGR2RGB)\n",
    "gray_real_chess = cv2.cvtColor(real_chess, cv2.COLOR_BGR2RGB)"
   ]
  },
  {
   "cell_type": "code",
   "execution_count": null,
   "id": "20f2874a",
   "metadata": {},
   "outputs": [],
   "source": []
  }
 ],
 "metadata": {
  "kernelspec": {
   "display_name": "Python 3 (ipykernel)",
   "language": "python",
   "name": "python3"
  },
  "language_info": {
   "codemirror_mode": {
    "name": "ipython",
    "version": 3
   },
   "file_extension": ".py",
   "mimetype": "text/x-python",
   "name": "python",
   "nbconvert_exporter": "python",
   "pygments_lexer": "ipython3",
   "version": "3.9.12"
  }
 },
 "nbformat": 4,
 "nbformat_minor": 5
}
