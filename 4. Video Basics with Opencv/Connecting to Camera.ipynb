{
 "cells": [
  {
   "cell_type": "markdown",
   "id": "bb45f7de",
   "metadata": {},
   "source": [
    "# Connecting to Camera"
   ]
  },
  {
   "cell_type": "code",
   "execution_count": 35,
   "id": "c77fb560",
   "metadata": {},
   "outputs": [],
   "source": [
    "import cv2\n",
    "\n",
    "# default webcam\n",
    "capture = cv2.VideoCapture(0)\n",
    "\n",
    "WIDTH = int(capture.get(cv2.CAP_PROP_FRAME_WIDTH))\n",
    "HEIGHT = int(capture.get(cv2.CAP_PROP_FRAME_HEIGHT))\n",
    "\n",
    "\n",
    "# WINDOWS   --- *\"DIVX\"\n",
    "# MAC-OS    --- *\"XVID\"\n",
    "\n",
    "writer = cv2.VideoWriter(\"myvideo.mp4\", cv2.VideoWriter_fourcc(*\"DIVX\"),\n",
    "                        20, (WIDTH,HEIGHT))\n",
    "\n",
    "while True:\n",
    "    \n",
    "    ret,frame = capture.read()\n",
    "    \n",
    "    # gray = cv2.cvtColor(frame, cv2.COLOR_BGR2GRAY)\n",
    "    # cv2.imshow(\"frame\", gray)\n",
    "    \n",
    "    \n",
    "    # OPERATIONS (WRITING)\n",
    "    writer.write(frame)\n",
    "    \n",
    "    \n",
    "    cv2.imshow(\"frame\", frame)\n",
    "    \n",
    "    # if user press 'q'\n",
    "    if cv2.waitKey(1) & 0xff == ord(\"q\"):\n",
    "        break\n",
    "  \n",
    "# stop capturing\n",
    "capture.release()\n",
    "writer.release()\n",
    "cv2.destroyAllWindows()"
   ]
  },
  {
   "cell_type": "code",
   "execution_count": null,
   "id": "e618010a",
   "metadata": {},
   "outputs": [],
   "source": []
  }
 ],
 "metadata": {
  "kernelspec": {
   "display_name": "Python 3 (ipykernel)",
   "language": "python",
   "name": "python3"
  },
  "language_info": {
   "codemirror_mode": {
    "name": "ipython",
    "version": 3
   },
   "file_extension": ".py",
   "mimetype": "text/x-python",
   "name": "python",
   "nbconvert_exporter": "python",
   "pygments_lexer": "ipython3",
   "version": "3.9.12"
  }
 },
 "nbformat": 4,
 "nbformat_minor": 5
}
