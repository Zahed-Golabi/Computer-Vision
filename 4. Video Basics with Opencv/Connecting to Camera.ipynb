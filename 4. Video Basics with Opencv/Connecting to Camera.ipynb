{
 "cells": [
  {
   "cell_type": "markdown",
   "id": "426e4282",
   "metadata": {},
   "source": [
    "# Connecting to Camera"
   ]
  },
  {
   "cell_type": "code",
   "execution_count": 3,
   "id": "d691a443",
   "metadata": {},
   "outputs": [],
   "source": [
    "import cv2\n",
    "\n",
    "# default webcam\n",
    "capture = cv2.VideoCapture(0)\n",
    "\n",
    "\n",
    "while True:\n",
    "    \n",
    "    ret,frame = capture.read()\n",
    "    \n",
    "    gray = cv2.cvtColor(frame, cv2.COLOR_BGR2GRAY)\n",
    "    \n",
    "    cv2.imshow(\"frame\", gray)\n",
    "    \n",
    "    # if user press 'q'\n",
    "    if cv2.waitKey(1) & 0xff == ord(\"q\"):\n",
    "        break\n",
    "  \n",
    "#stop capturing\n",
    "capture.release()\n",
    "cv2.destroyAllWindows()"
   ]
  }
 ],
 "metadata": {
  "kernelspec": {
   "display_name": "Python 3 (ipykernel)",
   "language": "python",
   "name": "python3"
  },
  "language_info": {
   "codemirror_mode": {
    "name": "ipython",
    "version": 3
   },
   "file_extension": ".py",
   "mimetype": "text/x-python",
   "name": "python",
   "nbconvert_exporter": "python",
   "pygments_lexer": "ipython3",
   "version": "3.9.12"
  }
 },
 "nbformat": 4,
 "nbformat_minor": 5
}
