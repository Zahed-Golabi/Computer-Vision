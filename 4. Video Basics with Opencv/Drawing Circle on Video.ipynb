{
 "cells": [
  {
   "cell_type": "markdown",
   "id": "918922ce",
   "metadata": {},
   "source": [
    "# Drawing Circle on Videos"
   ]
  },
  {
   "cell_type": "code",
   "execution_count": 18,
   "id": "75264c6c",
   "metadata": {},
   "outputs": [],
   "source": [
    "import cv2\n",
    "\n",
    "\n",
    "def draw_circle(event,x,y,flags,param):\n",
    "    \n",
    "    global LB_DOWN, LB_UP, center\n",
    "    \n",
    "    if event == cv2.EVENT_LBUTTONDOWN:\n",
    "        center = (x,y)\n",
    "        \n",
    "    if event == cv2.EVENT_LBUTTONUP:\n",
    "        LB_UP = True\n",
    "\n",
    "\n",
    "capture = cv2.VideoCapture(0)\n",
    "cv2.namedWindow(\"Circle\")\n",
    "cv2.setMouseCallback(\"Circle\", draw_circle)\n",
    "# WIDTH = int(capture.get(cv2.CAP_PROP_FRAME_WIDTH))\n",
    "# HEIGHT = int(capture.get(cv2.CAP_PROP_FRAME_HEIGHT))\n",
    "\n",
    "LB_UP = False\n",
    "center = (0,0)\n",
    "\n",
    "\n",
    "while True:\n",
    "    \n",
    "    ret,frame = capture.read()\n",
    "    \n",
    "    if LB_UP:\n",
    "        cv2.circle(frame,center,30,(0,0,255),thickness=4)\n",
    "    \n",
    "    \n",
    "    cv2.imshow(\"Circle\",frame)\n",
    "    \n",
    "    \n",
    "    if cv2.waitKey(1) & 0xFF == ord(\"q\"):\n",
    "        break\n",
    "        \n",
    "\n",
    "    \n",
    "capture.release()\n",
    "cv2.destroyAllWindows()"
   ]
  },
  {
   "cell_type": "markdown",
   "id": "238f6d5c",
   "metadata": {},
   "source": [
    "# Well Done!"
   ]
  }
 ],
 "metadata": {
  "kernelspec": {
   "display_name": "Python 3 (ipykernel)",
   "language": "python",
   "name": "python3"
  },
  "language_info": {
   "codemirror_mode": {
    "name": "ipython",
    "version": 3
   },
   "file_extension": ".py",
   "mimetype": "text/x-python",
   "name": "python",
   "nbconvert_exporter": "python",
   "pygments_lexer": "ipython3",
   "version": "3.9.12"
  }
 },
 "nbformat": 4,
 "nbformat_minor": 5
}
