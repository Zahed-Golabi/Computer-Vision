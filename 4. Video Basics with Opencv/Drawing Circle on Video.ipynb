{
 "cells": [
  {
   "cell_type": "markdown",
   "id": "02e3549c",
   "metadata": {},
   "source": [
    "# Drawing Circle on Videos"
   ]
  },
  {
   "cell_type": "code",
   "execution_count": 5,
   "id": "5b2745eb",
   "metadata": {},
   "outputs": [],
   "source": [
    "import cv2\n",
    "\n",
    "\n",
    "capture = cv2.VideoCapture(0)\n",
    "\n",
    "cv2.namedWindow(\"Circle\")\n",
    "# cv2.setMouseCallback(\"Circle\")\n",
    "\n",
    "WIDTH = int(capture.get(cv2.CAP_PROP_FRAME_WIDTH))\n",
    "HEIGHT = int(capture.get(cv2.CAP_PROP_FRAME_HEIGHT))\n",
    "\n",
    "\n",
    "def draw_circle(event,x,y,flags,param):\n",
    "    pass\n",
    "\n",
    "\n",
    "while True:\n",
    "    \n",
    "    ret,frame = capture.read()\n",
    "    \n",
    "    \n",
    "    cv2.imshow(\"Circle\",frame)\n",
    "    \n",
    "    \n",
    "    if cv2.waitKey(1) & 0xFF == ord(\"q\"):\n",
    "        break\n",
    "        \n",
    "\n",
    "    \n",
    "capture.release()\n",
    "cv2.destroyAllWindows()\n"
   ]
  }
 ],
 "metadata": {
  "kernelspec": {
   "display_name": "Python 3 (ipykernel)",
   "language": "python",
   "name": "python3"
  },
  "language_info": {
   "codemirror_mode": {
    "name": "ipython",
    "version": 3
   },
   "file_extension": ".py",
   "mimetype": "text/x-python",
   "name": "python",
   "nbconvert_exporter": "python",
   "pygments_lexer": "ipython3",
   "version": "3.9.12"
  }
 },
 "nbformat": 4,
 "nbformat_minor": 5
}
