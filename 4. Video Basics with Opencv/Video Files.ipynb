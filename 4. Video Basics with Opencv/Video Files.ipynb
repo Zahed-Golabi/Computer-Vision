{
 "cells": [
  {
   "cell_type": "markdown",
   "id": "28749747",
   "metadata": {},
   "source": [
    "# Working with Video Files"
   ]
  },
  {
   "cell_type": "code",
   "execution_count": 3,
   "id": "a4a8396b",
   "metadata": {},
   "outputs": [],
   "source": [
    "import cv2\n",
    "import time\n",
    "\n",
    "capture = cv2.VideoCapture(\"myvideo.mp4\")\n",
    "\n",
    "\n",
    "if capture.isOpened() == False:\n",
    "    print(\"Error file not found!\")\n",
    "    \n",
    "\n",
    "while capture.isOpened():\n",
    "    \n",
    "    ret, frame = capture.read()\n",
    "    \n",
    "    if ret == True:\n",
    "        \n",
    "        # wrote 20 FPS\n",
    "        time.sleep(1/20)\n",
    "        cv2.imshow(\"frame\", frame)\n",
    "        \n",
    "        if cv2.waitKeyEx(10) & 0xFF == ord(\"q\"):\n",
    "            break\n",
    "    else:\n",
    "        break\n",
    "        \n",
    "        \n",
    "capture.release()\n",
    "cv2.destroyAllWindows()"
   ]
  }
 ],
 "metadata": {
  "kernelspec": {
   "display_name": "Python 3 (ipykernel)",
   "language": "python",
   "name": "python3"
  },
  "language_info": {
   "codemirror_mode": {
    "name": "ipython",
    "version": 3
   },
   "file_extension": ".py",
   "mimetype": "text/x-python",
   "name": "python",
   "nbconvert_exporter": "python",
   "pygments_lexer": "ipython3",
   "version": "3.9.12"
  }
 },
 "nbformat": 4,
 "nbformat_minor": 5
}
