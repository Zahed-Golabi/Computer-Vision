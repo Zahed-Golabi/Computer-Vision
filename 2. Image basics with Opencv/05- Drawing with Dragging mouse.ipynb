{
 "cells": [
  {
   "cell_type": "markdown",
   "id": "ef773147",
   "metadata": {},
   "source": [
    "# Drawing with Dragging mouse"
   ]
  },
  {
   "cell_type": "code",
   "execution_count": 2,
   "id": "b22e94ea",
   "metadata": {},
   "outputs": [],
   "source": [
    "import cv2 \n",
    "import numpy as np\n",
    "\n",
    "\n",
    "# VARIABLES\n",
    "\n",
    "# True while mouse button down, False while mouse button UP \n",
    "drawing = False\n",
    "ix, iy = -1, -1\n",
    "\n",
    "\n",
    "# FUNCTION\n",
    "def draw_rectangle(event, x, y, flags, params):\n",
    "    \n",
    "    global ix, iy, drawing\n",
    "    \n",
    "    if event == cv2.EVENT_LBUTTONDOWN:\n",
    "        drawing = True\n",
    "        ix, iy = x, y\n",
    "    \n",
    "    elif event == cv2.EVENT_MOUSEMOVE:\n",
    "        if drawing == True:\n",
    "            cv2.rectangle(img, (ix,iy), (x,y), (0,255,0),-1)\n",
    "    \n",
    "    elif event == cv2.EVENT_LBUTTONUP:\n",
    "        drawing = False\n",
    "        cv2.rectangle(img, (ix,iy), (x,y), (0,255,0), -1)\n",
    "    \n",
    "\n",
    "# SHOWING THE IMAGE\n",
    "\n",
    "# BLACK\n",
    "img = np.zeros(shape=(512,512,3))\n",
    "\n",
    "cv2.namedWindow(winname=\"my_drawing\")\n",
    "\n",
    "cv2.setMouseCallback(\"my_drawing\", draw_rectangle)\n",
    "\n",
    "while True:\n",
    "    \n",
    "    cv2.imshow(\"my_drawing\", img)\n",
    "    \n",
    "    # CHECKS FOR Esc key\n",
    "    if cv2.waitKey(20) & 0xff ==27:\n",
    "        break\n",
    "        \n",
    "cv2.destroyAllWindows()\n"
   ]
  },
  {
   "cell_type": "markdown",
   "id": "7f50811e",
   "metadata": {},
   "source": [
    "# Well Done!"
   ]
  }
 ],
 "metadata": {
  "kernelspec": {
   "display_name": "Python 3 (ipykernel)",
   "language": "python",
   "name": "python3"
  },
  "language_info": {
   "codemirror_mode": {
    "name": "ipython",
    "version": 3
   },
   "file_extension": ".py",
   "mimetype": "text/x-python",
   "name": "python",
   "nbconvert_exporter": "python",
   "pygments_lexer": "ipython3",
   "version": "3.9.12"
  }
 },
 "nbformat": 4,
 "nbformat_minor": 5
}
